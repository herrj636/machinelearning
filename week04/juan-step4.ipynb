{
 "cells": [
  {
   "cell_type": "markdown",
   "metadata": {
    "collapsed": true
   },
   "source": [
    "## Review: what we did in Week 3: Amazon data\n",
    "* Read Amazon.csv\n",
    "* Get to know the data\n",
    "* Create a smaller subset of the data\n",
    "## [Jump to Week 4 material](#thisWeek)"
   ]
  },
  {
   "cell_type": "code",
   "execution_count": 1,
   "metadata": {},
   "outputs": [],
   "source": [
    "# imports and specifications\n",
    "import numpy as np\n",
    "import pandas as pd\n",
    "import matplotlib.pyplot as plt\n",
    "%matplotlib inline"
   ]
  },
  {
   "cell_type": "markdown",
   "metadata": {},
   "source": [
    "### read Amazon.csv"
   ]
  },
  {
   "cell_type": "code",
   "execution_count": 2,
   "metadata": {},
   "outputs": [],
   "source": [
    "amazon = pd.read_csv('/Users/juandherrera/Google Drive/017_Machine Learning/ml/week04/Amazon.csv')"
   ]
  },
  {
   "cell_type": "markdown",
   "metadata": {},
   "source": [
    "### get to know the data"
   ]
  },
  {
   "cell_type": "code",
   "execution_count": 3,
   "metadata": {},
   "outputs": [
    {
     "name": "stdout",
     "output_type": "stream",
     "text": [
      "amazon is: <class 'pandas.core.frame.DataFrame'>\n",
      "amazon has 455000 rows and 13 columns \n",
      "\n",
      "the data types for each of the columns in amazon:\n",
      "Unnamed: 0                  int64\n",
      "Id                          int64\n",
      "ProductId                  object\n",
      "UserId                     object\n",
      "ProfileName                object\n",
      "HelpfulnessNumerator        int64\n",
      "HelpfulnessDenominator      int64\n",
      "Score                       int64\n",
      "Time                        int64\n",
      "Summary                    object\n",
      "Text                       object\n",
      "helpScore                 float64\n",
      "helpful                      bool\n",
      "dtype: object \n",
      "\n",
      "the first 10 rows in amazon:\n",
      "   Unnamed: 0      Id   ProductId          UserId       ProfileName  \\\n",
      "0      138806  138807  B000E63LME  A1CQGW1AOD0LF2  Alena K. \"Alena\"   \n",
      "1      469680  469681  B004ZIH4KM  A37S7U1OX2MCWI        Becky Cole   \n",
      "2      238202  238203  B003ZXE9QA  A2OM6G73E64EQ9              jeff   \n",
      "3      485307  485308  B001RVFERK  A25W349EE97NBK          Tangent4   \n",
      "4      375283  375284  B000OQZNTS  A3CPPW0HUC07YS       Amy Nicolai   \n",
      "5      530491  530492  B001E5DX90  A26XS571YR9XPF          Briana B   \n",
      "6      355114  355115  B000IGAE66   A1WFG6OC3PPGZ          N. Myhre   \n",
      "7      565582  565583  B002GKEK7G  A119CG9WIR9PEG         SWalling1   \n",
      "8      173265  173266  B000XZBXP8  A26F4DH22KS0ZC            DocT65   \n",
      "9      500973  500974  B001EQ5GZI  A206PQUGK87WZ7          N. Wells   \n",
      "\n",
      "   HelpfulnessNumerator  HelpfulnessDenominator  Score        Time  \\\n",
      "0                     1                       2      2  1294185600   \n",
      "1                     0                       0      5  1349740800   \n",
      "2                     0                       0      5  1329264000   \n",
      "3                     1                       1      4  1248307200   \n",
      "4                     0                       0      5  1333238400   \n",
      "5                     0                       0      5  1191628800   \n",
      "6                     0                       0      5  1293321600   \n",
      "7                     0                       0      5  1261094400   \n",
      "8                     1                       1      5  1326672000   \n",
      "9                     0                       0      5  1274054400   \n",
      "\n",
      "                                      Summary  \\\n",
      "0                            Not as pictured.   \n",
      "1                                       seeds   \n",
      "2                               I'm addicted!   \n",
      "3                   I wanted to love these...   \n",
      "4                     Excellent chamomile tea   \n",
      "5                          Better than Coffee   \n",
      "6  Great Ceasers Ghost- These Cakes Are Great   \n",
      "7               Are you kidding me!? SO GOOD!   \n",
      "8                          Fantastic dog food   \n",
      "9                        morning wake up call   \n",
      "\n",
      "                                                Text  helpScore  helpful  \n",
      "0  I was looking forward to try cranberry apple f...        0.5    False  \n",
      "1  TY for everything.  The seeds arrived quickly,...        NaN    False  \n",
      "2  I've finally found the best cereal in the worl...        NaN    False  \n",
      "3  I originally bought these chips because I'd he...        1.0    False  \n",
      "4  Really excellent tea, flowers are visible in t...        NaN    False  \n",
      "5  I never was a big fan of tea but this is not l...        NaN    False  \n",
      "6  WOW WOW WOW WOW,WOW,truly great tasting Banana...        NaN    False  \n",
      "7  The words 'protein drink' don't generally conj...        NaN    False  \n",
      "8  We have 2 dogs, Dachshund and a German Shepher...        1.0    False  \n",
      "9  after trying most brands of coffee, I have set...        NaN    False  \n"
     ]
    }
   ],
   "source": [
    "print(\"amazon is:\", type(amazon))\n",
    "print(\"amazon has\", amazon.shape[0], \"rows and\", amazon.shape[1], \"columns\", \"\\n\")\n",
    "print(\"the data types for each of the columns in amazon:\")\n",
    "print(amazon.dtypes, \"\\n\")\n",
    "print(\"the first 10 rows in amazon:\")\n",
    "print(amazon.head(10))"
   ]
  },
  {
   "cell_type": "markdown",
   "metadata": {},
   "source": [
    "### create a ndarray for `L`"
   ]
  },
  {
   "cell_type": "code",
   "execution_count": 4,
   "metadata": {},
   "outputs": [
    {
     "name": "stdout",
     "output_type": "stream",
     "text": [
      "<class 'pandas.core.series.Series'>\n",
      "<class 'numpy.ndarray'>\n",
      "(455000,)\n"
     ]
    }
   ],
   "source": [
    "L = amazon[\"helpful\"]\n",
    "print(type(L))\n",
    "print(type(L.values))\n",
    "print(L.shape)"
   ]
  },
  {
   "cell_type": "markdown",
   "metadata": {},
   "source": [
    "### create a ndarray for `X`\n",
    "Use only \"Score\" and \"Time\" as features, for now."
   ]
  },
  {
   "cell_type": "code",
   "execution_count": 5,
   "metadata": {},
   "outputs": [
    {
     "name": "stdout",
     "output_type": "stream",
     "text": [
      "<class 'pandas.core.frame.DataFrame'>\n",
      "<class 'numpy.ndarray'>\n",
      "(455000, 2)\n"
     ]
    }
   ],
   "source": [
    "X = amazon[[\"Score\", \"Time\"]]\n",
    "print(type(X))\n",
    "print(type(X.values))\n",
    "print(X.shape)"
   ]
  },
  {
   "cell_type": "markdown",
   "metadata": {},
   "source": [
    "## <a name='thisWeek'></a>Week 4: fit linear classifier using gradient descent and assess the fit of the model"
   ]
  },
  {
   "cell_type": "markdown",
   "metadata": {},
   "source": [
    "### using the `SGDClassifier` class in `linear_model`, fit the model according to given training data"
   ]
  },
  {
   "cell_type": "code",
   "execution_count": 6,
   "metadata": {},
   "outputs": [
    {
     "name": "stderr",
     "output_type": "stream",
     "text": [
      "/Users/juandherrera/anaconda3/lib/python3.7/site-packages/sklearn/linear_model/stochastic_gradient.py:166: FutureWarning: max_iter and tol parameters have been added in SGDClassifier in 0.19. If both are left unset, they default to max_iter=5 and tol=None. If tol is not None, max_iter defaults to max_iter=1000. From 0.21, default max_iter will be 1000, and default tol will be 1e-3.\n",
      "  FutureWarning)\n"
     ]
    },
    {
     "data": {
      "text/plain": [
       "SGDClassifier(alpha=0.0001, average=False, class_weight=None,\n",
       "       early_stopping=False, epsilon=0.1, eta0=0.0, fit_intercept=True,\n",
       "       l1_ratio=0.15, learning_rate='optimal', loss='squared_loss',\n",
       "       max_iter=None, n_iter=None, n_iter_no_change=5, n_jobs=None,\n",
       "       penalty='l2', power_t=0.5, random_state=None, shuffle=True,\n",
       "       tol=None, validation_fraction=0.1, verbose=0, warm_start=False)"
      ]
     },
     "execution_count": 6,
     "metadata": {},
     "output_type": "execute_result"
    }
   ],
   "source": [
    "from sklearn import linear_model\n",
    "sgd = linear_model.SGDClassifier(loss=\"squared_loss\")\n",
    "sgd.fit(X, L)"
   ]
  },
  {
   "cell_type": "code",
   "execution_count": 7,
   "metadata": {},
   "outputs": [
    {
     "name": "stdout",
     "output_type": "stream",
     "text": [
      "33235\n",
      "[0.07304396]\n"
     ]
    }
   ],
   "source": [
    "# number & proportion of accurate predictions\n",
    "print(sum(sgd.predict(X) == L.values))\n",
    "print(sum(sgd.predict(X) == L.values) / L.shape)"
   ]
  },
  {
   "cell_type": "markdown",
   "metadata": {},
   "source": [
    "### how well did we do? compare the model's predictions for  `Y` to the labels `L`\n",
    "We'll start with the first few measures in Flach, p. 57"
   ]
  },
  {
   "cell_type": "code",
   "execution_count": 8,
   "metadata": {},
   "outputs": [
    {
     "name": "stdout",
     "output_type": "stream",
     "text": [
      "{'Pos': 33235, 'Neg': 421765, 'TP': 33235, 'TN': 0, 'FP': 421765, 'FN': 0, 'Accuracy': 0.07304395604395604, 'Precision': 0.07304395604395604, 'Recall': 1.0, 'desc': 'sgd'}\n"
     ]
    }
   ],
   "source": [
    "import my_measures\n",
    "\n",
    "sgd_pm = my_measures.BinaryClassificationPerformance(sgd.predict(X), L, 'sgd')\n",
    "sgd_pm.compute_measures()\n",
    "print(sgd_pm.performance_measures)"
   ]
  },
  {
   "cell_type": "markdown",
   "metadata": {},
   "source": [
    "## Normalization\n",
    "\n",
    "*[Normalization](https://scikit-learn.org/stable/modules/preprocessing.html#normalization) is the process of scaling individual samples to have unit norm.*"
   ]
  },
  {
   "cell_type": "code",
   "execution_count": 9,
   "metadata": {},
   "outputs": [
    {
     "data": {
      "text/html": [
       "<div>\n",
       "<style scoped>\n",
       "    .dataframe tbody tr th:only-of-type {\n",
       "        vertical-align: middle;\n",
       "    }\n",
       "\n",
       "    .dataframe tbody tr th {\n",
       "        vertical-align: top;\n",
       "    }\n",
       "\n",
       "    .dataframe thead th {\n",
       "        text-align: right;\n",
       "    }\n",
       "</style>\n",
       "<table border=\"1\" class=\"dataframe\">\n",
       "  <thead>\n",
       "    <tr style=\"text-align: right;\">\n",
       "      <th></th>\n",
       "      <th>Score</th>\n",
       "      <th>Time</th>\n",
       "    </tr>\n",
       "  </thead>\n",
       "  <tbody>\n",
       "    <tr>\n",
       "      <th>count</th>\n",
       "      <td>455000.000000</td>\n",
       "      <td>4.550000e+05</td>\n",
       "    </tr>\n",
       "    <tr>\n",
       "      <th>mean</th>\n",
       "      <td>4.183233</td>\n",
       "      <td>1.296260e+09</td>\n",
       "    </tr>\n",
       "    <tr>\n",
       "      <th>std</th>\n",
       "      <td>1.310769</td>\n",
       "      <td>4.800970e+07</td>\n",
       "    </tr>\n",
       "    <tr>\n",
       "      <th>min</th>\n",
       "      <td>1.000000</td>\n",
       "      <td>9.393408e+08</td>\n",
       "    </tr>\n",
       "    <tr>\n",
       "      <th>25%</th>\n",
       "      <td>4.000000</td>\n",
       "      <td>1.271290e+09</td>\n",
       "    </tr>\n",
       "    <tr>\n",
       "      <th>50%</th>\n",
       "      <td>5.000000</td>\n",
       "      <td>1.311120e+09</td>\n",
       "    </tr>\n",
       "    <tr>\n",
       "      <th>75%</th>\n",
       "      <td>5.000000</td>\n",
       "      <td>1.332720e+09</td>\n",
       "    </tr>\n",
       "    <tr>\n",
       "      <th>max</th>\n",
       "      <td>5.000000</td>\n",
       "      <td>1.351210e+09</td>\n",
       "    </tr>\n",
       "  </tbody>\n",
       "</table>\n",
       "</div>"
      ],
      "text/plain": [
       "               Score          Time\n",
       "count  455000.000000  4.550000e+05\n",
       "mean        4.183233  1.296260e+09\n",
       "std         1.310769  4.800970e+07\n",
       "min         1.000000  9.393408e+08\n",
       "25%         4.000000  1.271290e+09\n",
       "50%         5.000000  1.311120e+09\n",
       "75%         5.000000  1.332720e+09\n",
       "max         5.000000  1.351210e+09"
      ]
     },
     "execution_count": 9,
     "metadata": {},
     "output_type": "execute_result"
    }
   ],
   "source": [
    "X.describe()"
   ]
  },
  {
   "cell_type": "code",
   "execution_count": 10,
   "metadata": {},
   "outputs": [],
   "source": [
    "from sklearn import preprocessing\n",
    "X_normalized = preprocessing.normalize(X)"
   ]
  },
  {
   "cell_type": "code",
   "execution_count": 11,
   "metadata": {},
   "outputs": [
    {
     "data": {
      "text/html": [
       "<div>\n",
       "<style scoped>\n",
       "    .dataframe tbody tr th:only-of-type {\n",
       "        vertical-align: middle;\n",
       "    }\n",
       "\n",
       "    .dataframe tbody tr th {\n",
       "        vertical-align: top;\n",
       "    }\n",
       "\n",
       "    .dataframe thead th {\n",
       "        text-align: right;\n",
       "    }\n",
       "</style>\n",
       "<table border=\"1\" class=\"dataframe\">\n",
       "  <thead>\n",
       "    <tr style=\"text-align: right;\">\n",
       "      <th></th>\n",
       "      <th>0</th>\n",
       "      <th>1</th>\n",
       "    </tr>\n",
       "  </thead>\n",
       "  <tbody>\n",
       "    <tr>\n",
       "      <th>count</th>\n",
       "      <td>4.550000e+05</td>\n",
       "      <td>455000.0</td>\n",
       "    </tr>\n",
       "    <tr>\n",
       "      <th>mean</th>\n",
       "      <td>3.234304e-09</td>\n",
       "      <td>1.0</td>\n",
       "    </tr>\n",
       "    <tr>\n",
       "      <th>std</th>\n",
       "      <td>1.025960e-09</td>\n",
       "      <td>0.0</td>\n",
       "    </tr>\n",
       "    <tr>\n",
       "      <th>min</th>\n",
       "      <td>7.400776e-10</td>\n",
       "      <td>1.0</td>\n",
       "    </tr>\n",
       "    <tr>\n",
       "      <th>25%</th>\n",
       "      <td>2.994586e-09</td>\n",
       "      <td>1.0</td>\n",
       "    </tr>\n",
       "    <tr>\n",
       "      <th>50%</th>\n",
       "      <td>3.746140e-09</td>\n",
       "      <td>1.0</td>\n",
       "    </tr>\n",
       "    <tr>\n",
       "      <th>75%</th>\n",
       "      <td>3.860856e-09</td>\n",
       "      <td>1.0</td>\n",
       "    </tr>\n",
       "    <tr>\n",
       "      <th>max</th>\n",
       "      <td>5.322882e-09</td>\n",
       "      <td>1.0</td>\n",
       "    </tr>\n",
       "  </tbody>\n",
       "</table>\n",
       "</div>"
      ],
      "text/plain": [
       "                  0         1\n",
       "count  4.550000e+05  455000.0\n",
       "mean   3.234304e-09       1.0\n",
       "std    1.025960e-09       0.0\n",
       "min    7.400776e-10       1.0\n",
       "25%    2.994586e-09       1.0\n",
       "50%    3.746140e-09       1.0\n",
       "75%    3.860856e-09       1.0\n",
       "max    5.322882e-09       1.0"
      ]
     },
     "execution_count": 11,
     "metadata": {},
     "output_type": "execute_result"
    }
   ],
   "source": [
    "pd.DataFrame(X_normalized).describe()"
   ]
  },
  {
   "cell_type": "code",
   "execution_count": null,
   "metadata": {},
   "outputs": [],
   "source": []
  }
 ],
 "metadata": {
  "kernelspec": {
   "display_name": "Python 3",
   "language": "python",
   "name": "python3"
  },
  "language_info": {
   "codemirror_mode": {
    "name": "ipython",
    "version": 3
   },
   "file_extension": ".py",
   "mimetype": "text/x-python",
   "name": "python",
   "nbconvert_exporter": "python",
   "pygments_lexer": "ipython3",
   "version": "3.7.1"
  }
 },
 "nbformat": 4,
 "nbformat_minor": 1
}
