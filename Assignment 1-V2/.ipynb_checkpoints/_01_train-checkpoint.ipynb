{
 "cells": [
  {
   "cell_type": "markdown",
   "metadata": {},
   "source": [
    "# Training Set"
   ]
  },
  {
   "cell_type": "code",
   "execution_count": 1,
   "metadata": {},
   "outputs": [],
   "source": [
    "import numpy as np\n",
    "import pandas as pd\n",
    "import matplotlib.pyplot as plt\n",
    "from sklearn.externals import joblib\n",
    "%matplotlib inline"
   ]
  },
  {
   "cell_type": "markdown",
   "metadata": {},
   "source": [
    "### Read raw training data"
   ]
  },
  {
   "cell_type": "code",
   "execution_count": 2,
   "metadata": {},
   "outputs": [],
   "source": [
    "amazon = pd.read_csv('/Users/juandherrera/Google Drive/017_Machine Learning/ml/Assignment 1/raw_data_train.csv')\n",
    "# print(amazon.shape)"
   ]
  },
  {
   "cell_type": "code",
   "execution_count": 3,
   "metadata": {},
   "outputs": [
    {
     "name": "stdout",
     "output_type": "stream",
     "text": [
      "   Unnamed: 0  Unnamed: 0.1      Id   ProductId          UserId  \\\n",
      "0      286460         60951   60952  B001T4UMM2  A1L4L9NYUJOVD7   \n",
      "1      376328        268797  268798  B004SRFYMK   A5T3NHTCKOKFY   \n",
      "2      218180         33277   33278  B001SB1T96  A1S4O6796W3F8I   \n",
      "3      302089        492211  492212  B000ELVUKY  A2WQP6BAY0XBY5   \n",
      "4      238427        367731  367732  B003B3OOPA   API71UBOH6G18   \n",
      "\n",
      "       ProfileName  HelpfulnessNumerator  HelpfulnessDenominator  Score  \\\n",
      "0          J. Horn                     0                       0      5   \n",
      "1  bornagaintownie                     0                       0      5   \n",
      "2         SandyRed                     1                       1      5   \n",
      "3             Ryan                     0                       0      4   \n",
      "4           Keisha                     1                       1      5   \n",
      "\n",
      "         Time                       Summary  \\\n",
      "0  1338508800             Perfect for Kongs   \n",
      "1  1307404800               favorite flavor   \n",
      "2  1320710400                  Great flavor   \n",
      "3  1308614400  Cytosport Gives me Greatness   \n",
      "4  1338768000               Easy Does It...   \n",
      "\n",
      "                                                Text  helpScore  helpful  \n",
      "0  If you break a checkup in half (very easy to d...        NaN    False  \n",
      "1  While my husband prefers the plain coconut wat...        NaN    False  \n",
      "2  I really like these chocolates, but they are h...        1.0    False  \n",
      "3  I've been drinking this stuff everyday before ...        NaN    False  \n",
      "4  I'm actually loving this multifuctional produc...        1.0    False  \n",
      "0.07317032967032967\n"
     ]
    }
   ],
   "source": [
    "print(amazon.head())\n",
    "print(amazon['helpful'].mean())"
   ]
  },
  {
   "cell_type": "markdown",
   "metadata": {},
   "source": [
    "### Feature extraction on natural language data"
   ]
  },
  {
   "cell_type": "code",
   "execution_count": 4,
   "metadata": {},
   "outputs": [
    {
     "name": "stderr",
     "output_type": "stream",
     "text": [
      "/Users/juandherrera/anaconda3/lib/python3.7/site-packages/ipykernel_launcher.py:4: FutureWarning: Method .as_matrix will be removed in a future version. Use .values instead.\n",
      "  after removing the cwd from sys.path.\n"
     ]
    }
   ],
   "source": [
    "# # http://scikit-learn.org/stable/modules/generated/sklearn.feature_extraction.text.CountVectorizer.html\n",
    "from sklearn.feature_extraction.text import CountVectorizer\n",
    "vectorizer = CountVectorizer()\n",
    "corpus = amazon.Text.as_matrix()\n",
    "X_bag_of_words = vectorizer.fit_transform(corpus)\n",
    "# print(X_bag_of_words.toarray())"
   ]
  },
  {
   "cell_type": "code",
   "execution_count": 5,
   "metadata": {},
   "outputs": [
    {
     "data": {
      "text/plain": [
       "['vectorizer.pkl']"
      ]
     },
     "execution_count": 5,
     "metadata": {},
     "output_type": "execute_result"
    }
   ],
   "source": [
    "joblib.dump(vectorizer, 'vectorizer.pkl') # pickle"
   ]
  },
  {
   "cell_type": "code",
   "execution_count": 6,
   "metadata": {},
   "outputs": [
    {
     "name": "stderr",
     "output_type": "stream",
     "text": [
      "/Users/juandherrera/anaconda3/lib/python3.7/site-packages/sklearn/feature_extraction/hashing.py:102: DeprecationWarning: the option non_negative=True has been deprecated in 0.19 and will be removed in version 0.21.\n",
      "  \" in version 0.21.\", DeprecationWarning)\n",
      "/Users/juandherrera/anaconda3/lib/python3.7/site-packages/sklearn/feature_extraction/hashing.py:102: DeprecationWarning: the option non_negative=True has been deprecated in 0.19 and will be removed in version 0.21.\n",
      "  \" in version 0.21.\", DeprecationWarning)\n"
     ]
    },
    {
     "name": "stdout",
     "output_type": "stream",
     "text": [
      "(364000, 131072)\n"
     ]
    }
   ],
   "source": [
    "# vectorize Bag of Words from review text; as sparse matrix\n",
    "from sklearn.feature_extraction.text import HashingVectorizer\n",
    "hv = HashingVectorizer(n_features=2 ** 17, non_negative=True)\n",
    "X_hv = hv.fit_transform(amazon.Text)\n",
    "print(X_hv.shape)"
   ]
  },
  {
   "cell_type": "code",
   "execution_count": 7,
   "metadata": {},
   "outputs": [
    {
     "data": {
      "text/plain": [
       "scipy.sparse.csr.csr_matrix"
      ]
     },
     "execution_count": 7,
     "metadata": {},
     "output_type": "execute_result"
    }
   ],
   "source": [
    "type(X_hv)"
   ]
  },
  {
   "cell_type": "code",
   "execution_count": 8,
   "metadata": {},
   "outputs": [
    {
     "data": {
      "text/plain": [
       "['hv.pkl']"
      ]
     },
     "execution_count": 8,
     "metadata": {},
     "output_type": "execute_result"
    }
   ],
   "source": [
    "# We want to be able to use this model fit on other data (the test set)\n",
    "# So let's save a copy of this instance of HashingVectorizer to be able to transform other data with this fit\n",
    "# http://scikit-learn.org/stable/modules/model_persistence.html\n",
    "joblib.dump(hv, 'hv.pkl') # pickle"
   ]
  },
  {
   "cell_type": "code",
   "execution_count": 9,
   "metadata": {},
   "outputs": [
    {
     "data": {
      "text/plain": [
       "['transformer.pkl']"
      ]
     },
     "execution_count": 9,
     "metadata": {},
     "output_type": "execute_result"
    }
   ],
   "source": [
    "# http://scikit-learn.org/stable/modules/generated/sklearn.feature_extraction.text.TfidfTransformer.html\n",
    "from sklearn.feature_extraction.text import TfidfTransformer\n",
    "transformer = TfidfTransformer()\n",
    "X_tfidf = transformer.fit_transform(X_hv)\n",
    "\n",
    "joblib.dump(transformer, 'transformer.pkl') # pickle"
   ]
  },
  {
   "cell_type": "code",
   "execution_count": 10,
   "metadata": {},
   "outputs": [
    {
     "name": "stdout",
     "output_type": "stream",
     "text": [
      "<class 'scipy.sparse.csr.csr_matrix'>\n"
     ]
    }
   ],
   "source": [
    "print(type(X_tfidf))"
   ]
  },
  {
   "cell_type": "markdown",
   "metadata": {
    "collapsed": true
   },
   "source": [
    "### Create additional quantitative features"
   ]
  },
  {
   "cell_type": "code",
   "execution_count": 11,
   "metadata": {},
   "outputs": [
    {
     "name": "stdout",
     "output_type": "stream",
     "text": [
      "   Score  reviewLen\n",
      "0      5        172\n",
      "1      5        202\n",
      "2      5        123\n",
      "3      4        109\n",
      "4      5        283\n",
      "5      2        149\n",
      "6      4        795\n",
      "7      5        203\n",
      "8      1        637\n",
      "9      5        118\n",
      "<class 'pandas.core.frame.DataFrame'>\n"
     ]
    }
   ],
   "source": [
    "# features from Amazon.csv to add to feature set\n",
    "amazon['reviewLen'] = amazon['Text'].str.len()\n",
    "\n",
    "X_quant_features = amazon[[\"Score\", \"reviewLen\"]]\n",
    "print(X_quant_features.head(10))\n",
    "print(type(X_quant_features))"
   ]
  },
  {
   "cell_type": "markdown",
   "metadata": {},
   "source": [
    "### Combine all quantitative features into a single sparse matrix"
   ]
  },
  {
   "cell_type": "code",
   "execution_count": 12,
   "metadata": {},
   "outputs": [
    {
     "name": "stdout",
     "output_type": "stream",
     "text": [
      "(364000, 131074)\n"
     ]
    }
   ],
   "source": [
    "from scipy.sparse import csr_matrix, hstack\n",
    "X_quant_features_csr = csr_matrix(X_quant_features)\n",
    "X_combined = hstack([X_tfidf, X_quant_features_csr])\n",
    "X_matrix = csr_matrix(X_combined) # convert to sparse matrix\n",
    "print(X_matrix.shape)"
   ]
  },
  {
   "cell_type": "code",
   "execution_count": 13,
   "metadata": {},
   "outputs": [
    {
     "name": "stdout",
     "output_type": "stream",
     "text": [
      "(364000, 131074)\n",
      "  (0, 179)\t0.16038371817391292\n",
      "  (0, 7582)\t0.08762372063990348\n",
      "  (0, 12360)\t0.09621414035632717\n",
      "  (0, 12775)\t0.19333982678423173\n",
      "  (0, 17895)\t0.22839926335961505\n",
      "  (0, 18788)\t0.21198382251959602\n",
      "  (0, 24734)\t0.08271296167526547\n",
      "  (0, 34775)\t0.10412829776230388\n",
      "  (0, 34815)\t0.13938546448469225\n",
      "  (0, 40057)\t0.07546456131749829\n",
      "  (0, 41642)\t0.06020940674603308\n",
      "  (0, 42257)\t0.05852578804895088\n",
      "  (0, 43099)\t0.04821124051565354\n",
      "  (0, 45980)\t0.07356344984460064\n",
      "  (0, 51619)\t0.10973396443571652\n",
      "  (0, 55056)\t0.2990788107253327\n",
      "  (0, 58093)\t0.13469117875844713\n",
      "  (0, 63013)\t0.13125022388109447\n",
      "  (0, 64956)\t0.30257434563352736\n",
      "  (0, 66007)\t0.08597933766461702\n",
      "  (0, 67646)\t0.04954744009195029\n",
      "  (0, 70406)\t0.08653124030287675\n",
      "  (0, 73972)\t0.2354377924568886\n",
      "  (0, 93700)\t0.15310184590541276\n",
      "  (0, 99450)\t0.1551309620551961\n",
      "  (0, 103670)\t0.1775748668292454\n",
      "  (0, 110653)\t0.08507522218098791\n",
      "  (0, 111367)\t0.13360956191073994\n",
      "  (0, 112243)\t0.1280379494391164\n",
      "  (0, 116157)\t0.1603593393125497\n",
      "  (0, 124105)\t0.5277304596715252\n",
      "  (0, 128609)\t0.19837637428334146\n",
      "  (0, 131072)\t5.0\n",
      "  (0, 131073)\t172.0\n"
     ]
    }
   ],
   "source": [
    "# look at an example of a \"row\" of a sparse matrix\n",
    "print(X_matrix.shape)\n",
    "# print(X_matrix.head())\n",
    "print(X_matrix[0])"
   ]
  },
  {
   "cell_type": "markdown",
   "metadata": {},
   "source": [
    "### Create `X`, scaled matrix of features"
   ]
  },
  {
   "cell_type": "code",
   "execution_count": 14,
   "metadata": {},
   "outputs": [
    {
     "name": "stdout",
     "output_type": "stream",
     "text": [
      "(364000, 131074)\n"
     ]
    },
    {
     "data": {
      "text/plain": [
       "['sc.pkl']"
      ]
     },
     "execution_count": 14,
     "metadata": {},
     "output_type": "execute_result"
    }
   ],
   "source": [
    "# feature scaling\n",
    "from sklearn.preprocessing import StandardScaler\n",
    "sc = StandardScaler(with_mean=False)\n",
    "X = sc.fit_transform(X_matrix)\n",
    "print(X.shape)\n",
    "\n",
    "joblib.dump(sc, 'sc.pkl') # pickle"
   ]
  },
  {
   "cell_type": "markdown",
   "metadata": {},
   "source": [
    "### create `y`, vector of Labels"
   ]
  },
  {
   "cell_type": "code",
   "execution_count": 15,
   "metadata": {},
   "outputs": [
    {
     "name": "stdout",
     "output_type": "stream",
     "text": [
      "<class 'numpy.ndarray'>\n"
     ]
    }
   ],
   "source": [
    "y = amazon['helpful'].values\n",
    "print(type(y))"
   ]
  },
  {
   "cell_type": "markdown",
   "metadata": {},
   "source": [
    "# fit models"
   ]
  },
  {
   "cell_type": "code",
   "execution_count": 16,
   "metadata": {},
   "outputs": [],
   "source": [
    "from my_measures import BinaryClassificationPerformance"
   ]
  },
  {
   "cell_type": "markdown",
   "metadata": {},
   "source": [
    "### MODEL: ordinary least squares"
   ]
  },
  {
   "cell_type": "code",
   "execution_count": 17,
   "metadata": {},
   "outputs": [
    {
     "name": "stderr",
     "output_type": "stream",
     "text": [
      "/Users/juandherrera/anaconda3/lib/python3.7/site-packages/sklearn/linear_model/stochastic_gradient.py:166: FutureWarning: max_iter and tol parameters have been added in SGDClassifier in 0.19. If both are left unset, they default to max_iter=5 and tol=None. If tol is not None, max_iter defaults to max_iter=1000. From 0.21, default max_iter will be 1000, and default tol will be 1e-3.\n",
      "  FutureWarning)\n"
     ]
    },
    {
     "name": "stdout",
     "output_type": "stream",
     "text": [
      "{'Pos': 26634, 'Neg': 337366, 'TP': 12886, 'TN': 174422, 'FP': 162944, 'FN': 13748, 'Accuracy': 0.5145824175824176, 'Precision': 0.07328669737814934, 'Recall': 0.483817676653901, 'desc': 'ols'}\n"
     ]
    }
   ],
   "source": [
    "from sklearn import linear_model\n",
    "ols = linear_model.SGDClassifier(loss=\"squared_loss\")\n",
    "ols.fit(X, y)\n",
    "joblib.dump(ols, 'ols.pkl') # pickle\n",
    "\n",
    "ols_performance = BinaryClassificationPerformance(ols.predict(X), y, 'ols')\n",
    "ols_performance.compute_measures()\n",
    "print(ols_performance.performance_measures)"
   ]
  },
  {
   "cell_type": "markdown",
   "metadata": {},
   "source": [
    "### MODEL: SVM, linear"
   ]
  },
  {
   "cell_type": "code",
   "execution_count": 18,
   "metadata": {},
   "outputs": [],
   "source": [
    "# from sklearn import linear_model\n",
    "# svm = linear_model.SGDClassifier()\n",
    "# svm.fit(X, y)\n",
    "# joblib.dump(svm, 'svm.pkl') # pickle\n",
    "\n",
    "# svm_performance = BinaryClassificationPerformance(svm.predict(X), y, 'svm')\n",
    "# svm_performance.compute_measures()\n",
    "# print(svm_performance.performance_measures)"
   ]
  },
  {
   "cell_type": "markdown",
   "metadata": {},
   "source": [
    "### MODEL: logistic regression"
   ]
  },
  {
   "cell_type": "code",
   "execution_count": 40,
   "metadata": {},
   "outputs": [
    {
     "name": "stderr",
     "output_type": "stream",
     "text": [
      "/Users/juandherrera/anaconda3/lib/python3.7/site-packages/sklearn/linear_model/stochastic_gradient.py:152: DeprecationWarning: n_iter parameter is deprecated in 0.19 and will be removed in 0.21. Use max_iter and tol instead.\n",
      "  DeprecationWarning)\n"
     ]
    },
    {
     "name": "stdout",
     "output_type": "stream",
     "text": [
      "{'Pos': 26634, 'Neg': 337366, 'TP': 13132, 'TN': 326344, 'FP': 11022, 'FN': 13502, 'Accuracy': 0.9326263736263736, 'Precision': 0.5436780657448042, 'Recall': 0.49305399113914544, 'desc': 'lgs'}\n"
     ]
    }
   ],
   "source": [
    "from sklearn import linear_model\n",
    "lgs = linear_model.SGDClassifier(loss='log', n_iter=100, alpha=0.00001)\n",
    "lgs.fit(X, y)\n",
    "joblib.dump(lgs, 'lgs.pkl') # pickle\n",
    "\n",
    "lgs_performance = BinaryClassificationPerformance(lgs.predict(X), y, 'lgs')\n",
    "lgs_performance.compute_measures()\n",
    "print(lgs_performance.performance_measures)"
   ]
  },
  {
   "cell_type": "markdown",
   "metadata": {},
   "source": [
    "### MODEL: Naive Bayes"
   ]
  },
  {
   "cell_type": "code",
   "execution_count": 20,
   "metadata": {},
   "outputs": [],
   "source": [
    "# from sklearn.naive_bayes import MultinomialNB\n",
    "# nbs = MultinomialNB()\n",
    "# nbs.fit(X, y)\n",
    "# joblib.dump(nbs, 'nbs.pkl') # pickle\n",
    "\n",
    "# nbs_performance = BinaryClassificationPerformance(nbs.predict(X), y, 'nbs')\n",
    "# nbs_performance.compute_measures()\n",
    "# print(nbs_performance.performance_measures)"
   ]
  },
  {
   "cell_type": "markdown",
   "metadata": {},
   "source": [
    "### MODEL: Perceptron"
   ]
  },
  {
   "cell_type": "code",
   "execution_count": 21,
   "metadata": {},
   "outputs": [],
   "source": [
    "# from sklearn import linear_model\n",
    "# prc = linear_model.SGDClassifier(loss='perceptron')\n",
    "# prc.fit(X, y)\n",
    "# joblib.dump(prc, 'prc.pkl') # pickle\n",
    "\n",
    "# prc_performance = BinaryClassificationPerformance(prc.predict(X), y, 'prc')\n",
    "# prc_performance.compute_measures()\n",
    "# print(prc_performance.performance_measures)"
   ]
  },
  {
   "cell_type": "markdown",
   "metadata": {},
   "source": [
    "### MODEL: Ridge Regression Classifier"
   ]
  },
  {
   "cell_type": "code",
   "execution_count": 22,
   "metadata": {},
   "outputs": [
    {
     "name": "stdout",
     "output_type": "stream",
     "text": [
      "{'Pos': 26634, 'Neg': 337366, 'TP': 7934, 'TN': 336721, 'FP': 645, 'FN': 18700, 'Accuracy': 0.9468543956043955, 'Precision': 0.9248164121692505, 'Recall': 0.2978899151460539, 'desc': 'rdg'}\n"
     ]
    }
   ],
   "source": [
    "from sklearn import linear_model\n",
    "rdg = linear_model.RidgeClassifier(alpha=5.0)\n",
    "rdg.fit(X, y)\n",
    "joblib.dump(rdg, 'rdg.pkl') # pickle\n",
    "\n",
    "rdg_performance = BinaryClassificationPerformance(rdg.predict(X), y, 'rdg')\n",
    "rdg_performance.compute_measures()\n",
    "print(rdg_performance.performance_measures)"
   ]
  },
  {
   "cell_type": "code",
   "execution_count": 23,
   "metadata": {},
   "outputs": [
    {
     "data": {
      "text/plain": [
       "{'alpha': 5.0,\n",
       " 'class_weight': None,\n",
       " 'copy_X': True,\n",
       " 'fit_intercept': True,\n",
       " 'max_iter': None,\n",
       " 'normalize': False,\n",
       " 'random_state': None,\n",
       " 'solver': 'auto',\n",
       " 'tol': 0.001}"
      ]
     },
     "execution_count": 23,
     "metadata": {},
     "output_type": "execute_result"
    }
   ],
   "source": [
    "rdg.get_params()"
   ]
  },
  {
   "cell_type": "markdown",
   "metadata": {},
   "source": [
    "### What is the distribution of weights, OLS vs. ridge? "
   ]
  },
  {
   "cell_type": "code",
   "execution_count": 24,
   "metadata": {},
   "outputs": [
    {
     "data": {
      "image/png": "[encoded data removed]",
      "text/plain": [
       "<Figure size 432x288 with 1 Axes>"
      ]
     },
     "metadata": {
      "needs_background": "light"
     },
     "output_type": "display_data"
    },
    {
     "data": {
      "image/png": "[encoded data removed]",
      "text/plain": [
       "<Figure size 432x288 with 1 Axes>"
      ]
     },
     "metadata": {
      "needs_background": "light"
     },
     "output_type": "display_data"
    }
   ],
   "source": [
    "plt.hist(ols.coef_[0])\n",
    "plt.show()\n",
    "\n",
    "plt.hist(rdg.coef_[0])\n",
    "plt.show()"
   ]
  },
  {
   "cell_type": "markdown",
   "metadata": {},
   "source": [
    "### MODEL: Decision Tree Classifier"
   ]
  },
  {
   "cell_type": "code",
   "execution_count": 25,
   "metadata": {},
   "outputs": [
    {
     "name": "stdout",
     "output_type": "stream",
     "text": [
      "{'Pos': 26634, 'Neg': 337366, 'TP': 10551, 'TN': 337331, 'FP': 35, 'FN': 16083, 'Accuracy': 0.9557197802197802, 'Precision': 0.9966937464575855, 'Recall': 0.3961477810317639, 'desc': 'dtc'}\n"
     ]
    }
   ],
   "source": [
    "from sklearn import tree\n",
    "dtc = tree.DecisionTreeClassifier(max_depth=100)\n",
    "dtc.fit(X_matrix, y)\n",
    "joblib.dump(dtc, 'dtc.pkl') # pickle\n",
    "\n",
    "dtc_performance = BinaryClassificationPerformance(dtc.predict(X_matrix), y, 'dtc')\n",
    "dtc_performance.compute_measures()\n",
    "print(dtc_performance.performance_measures)"
   ]
  },
  {
   "cell_type": "markdown",
   "metadata": {},
   "source": [
    "### ROC plot to compare performance of various models and fits"
   ]
  },
  {
   "cell_type": "code",
   "execution_count": 26,
   "metadata": {},
   "outputs": [
    {
     "data": {
      "image/png": "[encoded data removed]",
      "text/plain": [
       "<Figure size 432x288 with 1 Axes>"
      ]
     },
     "metadata": {
      "needs_background": "light"
     },
     "output_type": "display_data"
    }
   ],
   "source": [
    "fits = [lgs_performance, rdg_performance, ols_performance, dtc_performance]\n",
    "\n",
    "for fit in fits:\n",
    "    plt.plot(fit.performance_measures['FP'] / fit.performance_measures['Neg'], \n",
    "             fit.performance_measures['TP'] / fit.performance_measures['Pos'], 'ro')\n",
    "    plt.text(fit.performance_measures['FP'] / fit.performance_measures['Neg'], \n",
    "             fit.performance_measures['TP'] / fit.performance_measures['Pos'], fit.desc)\n",
    "plt.axis([0, 1, 0, 1])\n",
    "plt.title('ROC plot: training set')\n",
    "plt.xlabel('False positive rate')\n",
    "plt.ylabel('True positive rate')\n",
    "plt.show()"
   ]
  },
  {
   "cell_type": "markdown",
   "metadata": {},
   "source": [
    "## a digression: looking inside the `rdg` object\n",
    "\n",
    "[documentation](https://scikit-learn.org/stable/modules/generated/sklearn.linear_model.RidgeClassifier.html)"
   ]
  },
  {
   "cell_type": "code",
   "execution_count": 27,
   "metadata": {},
   "outputs": [
    {
     "data": {
      "text/plain": [
       "['__abstractmethods__',\n",
       " '__class__',\n",
       " '__delattr__',\n",
       " '__dict__',\n",
       " '__dir__',\n",
       " '__doc__',\n",
       " '__eq__',\n",
       " '__format__',\n",
       " '__ge__',\n",
       " '__getattribute__',\n",
       " '__getstate__',\n",
       " '__gt__',\n",
       " '__hash__',\n",
       " '__init__',\n",
       " '__init_subclass__',\n",
       " '__le__',\n",
       " '__lt__',\n",
       " '__module__',\n",
       " '__ne__',\n",
       " '__new__',\n",
       " '__reduce__',\n",
       " '__reduce_ex__',\n",
       " '__repr__',\n",
       " '__setattr__',\n",
       " '__setstate__',\n",
       " '__sizeof__',\n",
       " '__str__',\n",
       " '__subclasshook__',\n",
       " '__weakref__',\n",
       " '_abc_impl',\n",
       " '_decision_function',\n",
       " '_estimator_type',\n",
       " '_get_param_names',\n",
       " '_label_binarizer',\n",
       " '_predict_proba_lr',\n",
       " '_preprocess_data',\n",
       " '_set_intercept',\n",
       " 'alpha',\n",
       " 'class_weight',\n",
       " 'classes_',\n",
       " 'coef_',\n",
       " 'copy_X',\n",
       " 'decision_function',\n",
       " 'fit',\n",
       " 'fit_intercept',\n",
       " 'get_params',\n",
       " 'intercept_',\n",
       " 'max_iter',\n",
       " 'n_iter_',\n",
       " 'normalize',\n",
       " 'predict',\n",
       " 'random_state',\n",
       " 'score',\n",
       " 'set_params',\n",
       " 'solver',\n",
       " 'tol']"
      ]
     },
     "execution_count": 27,
     "metadata": {},
     "output_type": "execute_result"
    }
   ],
   "source": [
    "dir(rdg)"
   ]
  },
  {
   "cell_type": "code",
   "execution_count": 28,
   "metadata": {},
   "outputs": [
    {
     "data": {
      "text/plain": [
       "{'alpha': 5.0,\n",
       " 'class_weight': None,\n",
       " 'copy_X': True,\n",
       " 'fit_intercept': True,\n",
       " 'max_iter': None,\n",
       " 'normalize': False,\n",
       " 'random_state': None,\n",
       " 'solver': 'auto',\n",
       " 'tol': 0.001}"
      ]
     },
     "execution_count": 28,
     "metadata": {},
     "output_type": "execute_result"
    }
   ],
   "source": [
    "rdg.get_params()"
   ]
  },
  {
   "cell_type": "code",
   "execution_count": 29,
   "metadata": {},
   "outputs": [
    {
     "data": {
      "text/plain": [
       "numpy.ndarray"
      ]
     },
     "execution_count": 29,
     "metadata": {},
     "output_type": "execute_result"
    }
   ],
   "source": [
    "type(rdg.coef_)"
   ]
  },
  {
   "cell_type": "code",
   "execution_count": 30,
   "metadata": {},
   "outputs": [
    {
     "data": {
      "text/plain": [
       "(1, 131074)"
      ]
     },
     "execution_count": 30,
     "metadata": {},
     "output_type": "execute_result"
    }
   ],
   "source": [
    "rdg.coef_.shape"
   ]
  },
  {
   "cell_type": "code",
   "execution_count": 31,
   "metadata": {},
   "outputs": [
    {
     "name": "stdout",
     "output_type": "stream",
     "text": [
      "[-0.00017661  0.          0.         ... -0.0001382   0.00090153\n",
      "  0.07389643]\n"
     ]
    }
   ],
   "source": [
    "print(rdg.coef_[0])"
   ]
  },
  {
   "cell_type": "code",
   "execution_count": 32,
   "metadata": {},
   "outputs": [
    {
     "data": {
      "image/png": "[encoded data removed]",
      "text/plain": [
       "<Figure size 432x288 with 1 Axes>"
      ]
     },
     "metadata": {
      "needs_background": "light"
     },
     "output_type": "display_data"
    }
   ],
   "source": [
    "plt.hist(rdg.coef_[0])\n",
    "plt.show()"
   ]
  },
  {
   "cell_type": "markdown",
   "metadata": {},
   "source": [
    "# looking at reviews based on their classification\n",
    "\n",
    "Let's say we decide that Ridge Regression is the best model for generalization. Let's take a look at some of the reviews and try to make a (subjective) determination of whether it's generalizing well. "
   ]
  },
  {
   "cell_type": "code",
   "execution_count": 33,
   "metadata": {},
   "outputs": [
    {
     "data": {
      "text/plain": [
       "'If you break a checkup in half (very easy to do) it fits perfectly inside the large kong toys.  My dog loves them so much she throws the kong toy at me several times a day.'"
      ]
     },
     "execution_count": 33,
     "metadata": {},
     "output_type": "execute_result"
    }
   ],
   "source": [
    "amazon.loc[0, \"Text\"]"
   ]
  },
  {
   "cell_type": "code",
   "execution_count": 34,
   "metadata": {},
   "outputs": [
    {
     "data": {
      "text/plain": [
       "False"
      ]
     },
     "execution_count": 34,
     "metadata": {},
     "output_type": "execute_result"
    }
   ],
   "source": [
    "amazon.loc[0, \"helpful\"]"
   ]
  },
  {
   "cell_type": "code",
   "execution_count": 35,
   "metadata": {},
   "outputs": [],
   "source": [
    "ridge_predictions = rdg.predict(X)"
   ]
  },
  {
   "cell_type": "code",
   "execution_count": 36,
   "metadata": {},
   "outputs": [
    {
     "data": {
      "text/plain": [
       "(364000,)"
      ]
     },
     "execution_count": 36,
     "metadata": {},
     "output_type": "execute_result"
    }
   ],
   "source": [
    "ridge_predictions.shape"
   ]
  },
  {
   "cell_type": "code",
   "execution_count": 37,
   "metadata": {},
   "outputs": [
    {
     "name": "stdout",
     "output_type": "stream",
     "text": [
      "[False False False ... False False False]\n"
     ]
    }
   ],
   "source": [
    "print(ridge_predictions)"
   ]
  },
  {
   "cell_type": "code",
   "execution_count": 38,
   "metadata": {},
   "outputs": [
    {
     "name": "stdout",
     "output_type": "stream",
     "text": [
      "1164\n",
      "2011-05-08 00:00:00\n",
      "3\n",
      "2\n",
      "B001EO7GAI\n",
      "I use red lumpfish caviar in a couple of dishes, and this brand is as good as any I've found, though the red coloring is perhaps a little much!\n",
      "* * * * * * * * * \n",
      "4857\n",
      "2010-03-28 00:00:00\n",
      "5\n",
      "0\n",
      "B000M3J9VQ\n",
      "This brings back so many memories from living in Brazil. Pao de queijo is often eaten as a breakfast food along with coffee or hot chocolate. I've been having to travel up to Toronto to find my stash and it costs me $2.50-2.75 per box, so it's actually cheaper to have Amazon send it to me. I love it!<br /><br />When I make mine, I add a little extra cheese to it - usually grated parmasaen that I have in the fridge. Also, to make your little balls, a medium cookie scoop works well for the amount of dough you will use. Keep a little cooking oil by you because you will want to form the balls with your hands. A little oil on your palm between each ball will keep it from sticking too much and it helps them cook up nicer. The box says to let them get golden, but I find that the tops don't turn very gold in color. As they start to crack as they expand, you know you are close. I usually go about a minute longer than the time says. When you pull them out, you'll notice the bottoms are nice and golden.<br /><br />Make sure you eat them all. Pao de queijo doesn't reheat very well. Try them the Brazilian breakfast way with your favorite coffee or even better, hot chocolate - you'll love 'em!\n",
      "* * * * * * * * * \n",
      "8825\n",
      "2012-06-22 00:00:00\n",
      "5\n",
      "0\n",
      "B000PDRYPQ\n",
      "Taylor's Market is awesome.  Product is heavy garlic and uniquely unexplainable.  A little on the bitter side, but really enjoyable when dripped on things like Nachos to give it a different zing.\n",
      "* * * * * * * * * \n",
      "17574\n",
      "2010-01-14 00:00:00\n",
      "5\n",
      "3\n",
      "B0026002PU\n",
      "When purchased through subscribe and save, this pack runs less than $1.20. While I can sometimes find store brand pasta for around $1.00 a pack in the store, for the taste and how well this pasta cooks - it is a great buy. This brand runs more in my local stores (around $1.69 a box). The good think about the pack of 20 is that we eat a lot of pasta. I would never pick up 20 boxes at the grocery store, but I end up running out and being frustated. This stores well in my pantry and allows me to fix a quick meal anytime. Also, since I have so many boxes I am more eager to stretch my cooking skills and try new recipes. A great price, very good product, and what can beat home delivery?\n",
      "* * * * * * * * * \n",
      "19379\n",
      "2007-03-23 00:00:00\n",
      "5\n",
      "3\n",
      "B0052OUAOK\n",
      "I have been put on some medicine that instead of gaining weight like the main side effects suggest, I have been losing weight.  I know, I know - I am soooo lucky.  Right.  I know what it is like to have to exercise to reduce my weight and tone up.  Anyway, I went to my health food store looking for some bars to help me maintain my weight.  I could eat more, but I dont feel like spending all day munching away on stuff and the temptation for junk food is silly.  I had bought about 6 different kinds of bars and each day had one.  This one was the best tasting one (chocolate).  It took care of the chocolate tooth and the nutrition part.  I really like the ingredient list on the ReBar nutrition bars, but I like GP better.  I now eat a rebar for the extra servings of veggies/fruit but I always have a GP bar for breakfast.  I have noticed a better feeling regarding my health and my weight has stabilized.  I read the other negative reviews about the taste.  My son doesn't like them (he's 5) and says they taste like cat food, but he also doesnt like dates, which make up the bulk of the flavor.  So, yes, I can see why one would not like them.  However, like anything else, if you don't like it, at least you tried it and don't eat it again.  It does not have a medicine-y or forest floor/backyard taste, the texture is soft so you don't have to chew it like a cow chews cud, and the chocolate coating is yummy.  I'd go and buy one at a health food store first and see if you like it before ordering a box.  This way, you only spend a couple of bucks versus $20 - $30 for a box.  No harm, no foul.  For those that love it...  YUMMY!\n",
      "* * * * * * * * * \n",
      "19697\n",
      "2012-01-04 00:00:00\n",
      "5\n",
      "2\n",
      "B001DP4TRQ\n",
      "\"Diet Fountain Mist\" for the <a href=\"http://www.amazon.com/gp/product/B001KYT6CS\">Sodastream Fountain Jet Soda Maker Starter Kit</a> is the most preferred \"diet\" syrup flavor for my family. It does taste a lot like diet Mountain Dew, but I found it takes just a little more than the recommended amount of syrup to get it strong enough.<br /><br />Highly Recommended!<br /><br />CFH\n",
      "* * * * * * * * * \n",
      "21056\n",
      "2010-02-11 00:00:00\n",
      "5\n",
      "4\n",
      "B0002DRH9M\n",
      "Of all of the sheep's milk cheeses available, Kasseri is just my all-time favorite. It is smooth, creamy, mild, and delicious! Wish it was more readily available, as it is an exceptionally good cheese...bar none.\n",
      "* * * * * * * * * \n",
      "21526\n",
      "2009-08-06 00:00:00\n",
      "5\n",
      "3\n",
      "B002915VF2\n",
      "I just received my order yesterday and I'm really happy with this product.  I'm not the hugest fan of chocolate ice cream but bought this because of the HG recommendation.  I liked it pretty well on it's own but when I mixed it with some PB2 it tasted just like Edy's peanut butter cup ice cream--yum!  I wasn't tempted to eat the whole pint--it is rich enough that a cup mixed with the PB2 was plenty and that has about the same amount of calories as the whole pint.  I think it would taste good with Better n' Peanut Butter too for a treat with a few more calories.\n",
      "* * * * * * * * * \n",
      "24800\n",
      "2010-06-06 00:00:00\n",
      "1\n",
      "20\n",
      "B000FAPM2Q\n",
      "I wanted to find a broth/soup base that does not have MSG. As it turns out after I purchased this product, I found out that MSG comes in so many different name, one of them being Yeast Extract, the number one ingredient for this broth seasoning. Just google \"other names for MSG\" and you will see.  I now stop using this product, and always scrutinize all the food labels before buying as almost everything prepackaged/canned/processed food contains MSG.  I now make my own broth from meat and vegetable. It's more expensive for sure, but well worth my family's health.\n",
      "* * * * * * * * * \n",
      "34806\n",
      "2012-06-17 00:00:00\n",
      "1\n",
      "2\n",
      "B001E5E08I\n",
      "I've had an Amazon subscription on this cereal for the past year and in this last shipment, Kashi has changed their recipe.  The cereal is no longer what it used to be.  The flavor is like eating cardboard now... what a pity.  Fairly warned be thee, says I, matey.\n",
      "* * * * * * * * * \n",
      "34817\n",
      "2011-12-19 00:00:00\n",
      "5\n",
      "1\n",
      "B000QNR2WA\n",
      "This spice has a great depth to it.  It's tasty and you can layer it to make it as spicy or flavorful as you'd like.  I make a great tasting vegan lentil dish with it.  You combine lentils, pasta sauce and bar-b-que sauce together with a bit of this spice and you have an amazing satiesfying dish.\n",
      "* * * * * * * * * \n",
      "116822\n",
      "2012-04-25 00:00:00\n",
      "4\n",
      "0\n",
      "B004VITJWC\n",
      "The yogurt drops are so small it will take your child a while to eat them. They are great for outtings (no so great at home can be messy if dropped).  This snack will give you some time to enjoy being out and no fussy toddler to deal with.  The taste is bland but my toddler loves em.\n",
      "* * * * * * * * * \n",
      "117009\n",
      "2009-03-23 00:00:00\n",
      "1\n",
      "2\n",
      "B000LBU3GO\n",
      "I thought I was getting Hisbiscus Herbal Tea in teabag form, but a package of dried flowers is what came.  I was disappointed, since this is not listed on the description.  Buyer beware!\n",
      "* * * * * * * * * \n",
      "131284\n",
      "2009-02-01 00:00:00\n",
      "5\n",
      "1\n",
      "B000R7XBF2\n",
      "I usually eat the big bag Doritos, about 12.5 ounce.  I decided to buy this because the big bag weren't on sale and I can't wait any longer.  Amazon does a great job of not smashing the bag, it arrive to me perfectly.  These are truly addicting because of its size, I finish 6 bag a day on average.  When eating the big bag, after a while, I just get tire of eating and stop because there are too much, then it start becoming unrefreshed.  But these 1.75 ounce bag, I can't get enough, and every time I open a new bag, its fresh.\n",
      "* * * * * * * * * \n",
      "142193\n",
      "2008-12-01 00:00:00\n",
      "5\n",
      "1\n",
      "B000LKX286\n",
      "My family has been enjoying Bug Bites organic chocolates for years. I highly recommend both the milk chocolate and the dark chocolate varieties. They are very smooth and rich, and not the least bit \"waxy\" tasting like some of the more popular American chocolates. Each individually packaged bite is the perfect size for an adult and maybe a little more than a mouthful for a young child. Each tiny package contains a special treat- a tiny insect card which features a color photograph and interesting facts. If you have a budding entomologist on your hands, these are the perfect treat! The Endangered Species company is environmentally conscious too, and dedicates 10% of their net profit to support species and habitat preservation.\n",
      "* * * * * * * * * \n",
      "161616\n",
      "2011-10-31 00:00:00\n",
      "4\n",
      "0\n",
      "B003C5NN8Q\n",
      "My dog likes these treats a lot, as much as any of the other Dogswell jerky treats. I don't think the lavender/chamomile does much for him though. He remains pretty anxious/wound up even after eating them.<br /><br />However, I can imagine that like any treat, they provide some help with anxiety by simply being a distraction. I'm satisfied with this treat, but will probably get a different Dogswell jerky next time, like the ones for joints or good breath.<br /><br />I do love the size of this bag. TONS of treats in it, lasts me forever.<br /><br />Also, for real anxiety issues, I have heard the ThunderShirt dog wrap is amazing <a href=\"http://www.amazon.com/gp/product/B005HEY5CS\">Thundershirt Dog Anxiety Treatment- (Medium) - Heather Gray</a>. I am considering getting one.\n",
      "* * * * * * * * * \n",
      "172028\n",
      "2012-10-02 00:00:00\n",
      "5\n",
      "0\n",
      "B000E65OKQ\n",
      "Well, Tension Tamer lives up to it's name.  A perfect blend.  Pleasing to the senses and great tasting. Just add a little Texas honey or even a splash of Carnation evaporated, or LaLechera condensed milk and walla!\n",
      "* * * * * * * * * \n",
      "178279\n",
      "2008-07-14 00:00:00\n",
      "5\n",
      "1\n",
      "B000CB54S0\n",
      "This is a fun and unique gift pack.  Great for teens and young folks (who don't need supervision in the kitchen).  Instructions were straight forward and the end result turned out great!  Highly recommended.<br /><br />First step involved boiling the tapioca pearls.  Just make sure you have enough (if not additional water in the pot).  Because of the excess starches, these pearls need room to expand and soak.  Don't over cook.<br /><br />After drained and cooled, you make (shake) the packet ingredients.  Our favorite was strawberry, but Mango came in a close second.  Have not tried the tarrot yet (fear of the unknown).<br /><br />We even tried standard lemonade (our own making) with the bubble pearls and it was good as well.<br /><br />Don't forget to get extra straws.  You can't suck these pearls through standard sippy straws.<br /><br />Happy bubbling.\n",
      "* * * * * * * * * \n",
      "186056\n",
      "2012-05-15 00:00:00\n",
      "2\n",
      "0\n",
      "B001EO5OJS\n",
      "When I received them they were all broken up. They use to be much harder than they are now. I liked them better before they Durango changed them.\n",
      "* * * * * * * * * \n",
      "188865\n",
      "2010-02-03 00:00:00\n",
      "5\n",
      "2\n",
      "B0002X8HB4\n",
      "I have 3 70 pound retriever mixes and they always have to have something in their mouths. Unfortunately, it is usually one of their fellow pack-mates that they wind up chewing on and the 3 of them get to scrapping like a scrum in a rugby game. Not very restful.<br /><br />However, with 3 of the large Everlasting Treat balls stuffed with these treats, I'm good for a couple of relatively peaceful evenings. Depending on the dog and the ball, the treats usually stay in there and will one two-pack will last a couple of nights. Occasionally, the treat will \"pop out\" of the ball and the lucky dog will be able to chew it up in about the same amount of time as a raw-hide chip.<br /><br />I like that these aren't raw-hide since raw-hide will sometimes cause digestive issues in my dogs (and there is nothing worse when 3 big dogs have digestive issues!).<br /><br />I'm so glad to see Amazon sell these because my local Petsmart no longer carries them -- at least not in the size that I need. Plus, Amazon saves me a trip, shipping, and tax... happiness abounds for bi-peds and quadra-peds alike!\n",
      "* * * * * * * * * \n"
     ]
    },
    {
     "name": "stdout",
     "output_type": "stream",
     "text": [
      "202653\n",
      "2011-06-05 00:00:00\n",
      "5\n",
      "1\n",
      "B0026YDOYM\n",
      "The reason I originally ordered this blend from Amazon, is that I did not need to go to the Grocery store<br />for a couple weeks, except for coffee which I was almost out of. So why not get it delivered to my front door.<br />I usually drink regular Folgers Classic Roast, but wanted to try something different.<br /><br />  I am glad I did. This is really, really tasty coffee. I do not overspend on coffee by going to Starbucks or getting any<br />specialty coffees anywhere else. So, I am really pleased by the flavor of this medium blend, which is not too mild, and not too strong.<br />It is what a cup of coffee should taste like. I will continue to order it in the future.\n",
      "* * * * * * * * * \n",
      "225296\n",
      "2011-12-07 00:00:00\n",
      "1\n",
      "21\n",
      "B001T4UMM2\n",
      "I have a 6 1/2 month old, 47lb, pit bull mix. He has absolutely no allergies, and no sensitivities. He basically eats everything without an issue, however, we found the one thing that does not agree with him, \"CHECKUPS.\" I just bought the product from Costco last night, and gave him one bone while I was home so that I could see how he reacted to it and how long it lasted. At first I was happy to see that he spent some time chewing on it. We all went to bed, and all was fine, until 4:00 am, when we were awoken by Rocco throwing up his dinner. An hour later, he proceeded to throw up blood, a large amount of blood. Soon after, he threw up blood again. We rushed him to the vet, and the vet said that this product was way too hard for a puppy that young. We were surprised to hear this because the package stated that the product was designed for puppies 6 months or older, and Rocco was double the suggested weight limit. He said this product should not be given to dogs until they are more than a year old. The product, when chewed, became sharp shards, that tore up his digestive tract. I feel terrible for putting Rocco through this. It is not worth the risk.\n",
      "* * * * * * * * * \n",
      "259707\n",
      "2012-10-20 00:00:00\n",
      "2\n",
      "0\n",
      "B0016JJEFG\n",
      "I was overjoyed to find an organic black tea at a low price, and I assumed since it had the \"Newman's Own\" brand name on it, that it would be a great tea. I was disappointed. It was mild and rather tasteless. I understand that organic teas tend to be less brisk than non-organic, but I've ordered a favorite organic Assam from another well-known tea purveyor, and it was heads above this Newman blend. I got what I paid for with the Newman, but at least I'm not out a whole lot of money.\n",
      "* * * * * * * * * \n",
      "267676\n",
      "2012-05-26 00:00:00\n",
      "4\n",
      "1\n",
      "B003G1ZRTY\n",
      "I have type 2 diabetes and I eat one of these with a wedge of light Laughing Cow cheese about a half hour before dinner and the fiber helps fill me up and keeps my blood glucose from spiking after I eat dinner.<br /><br />I agree with one other reviewer that these can be tough on your digestive tract BUT ONLY at first. If your body isn't used to so much fiber at once it will \"rebel\" a bit but after eating one a day for about a week, all unpleasantness passed for me and they really do fill me up and help me eat less at dinner.<br /><br />Fiber helps keep my blood glucose stable without all the spikes that can stimulate appetite as well as cause my blood glucose to be above normal limits. Fiber acts like \"brakes\" to carbs and sugar.<br /><br />I always keep these in my pantry. They aren't the most tasty cracker I've ever had but they are palatable with the Laughing Cow cheese and it's an easy, quick way to add more fiber to your diet even if you aren't a diabetic.\n",
      "* * * * * * * * * \n",
      "269729\n",
      "2006-08-27 00:00:00\n",
      "1\n",
      "29\n",
      "B0002SQ4HS\n",
      "Unfortunately most people are ill informed about vegan cats, including most veterinarians.<br /><br />Wild cats are in fact obligate carnivores. However, in domesticating the house cat and bringing it into our homes we have effectively removed the cat from its natural prey of mice, insects, birds, lizards, and other small creatures. During the past 100 years or so, as the human food industry was searching for a way to salvage and use all the waste materials from its processing lines, it came upon a wonderful solution. Lets boil it all up and dry it out and add it to the food we make for cats and dogs. As a result, the vast majority of commercial pet foods contain what are euphemistically referred to as the four D's, dead, dying, disabled, and diseased animals, along with other quite undesirable materials. Quite frankly, if you are feeding this junk to your pets, you are effectively poisoning them. We are seeing diseases in pets today that we have never seen before because of the wide variety of contaminated ingredients that are finding their way into the food we feed our companion animals. You know \"garbage in, garbage out!\"<br /><br />Now the issue here is not meat; it is about providing all the essential and non-essential amino acids (the building blocks of proteins) and vitamins and minerals that are bio-available to the particularly unique physiology of felids (cats). The quality, quantity, and availability of these nutrients can come from any source, and for those of us who are vegan, the best source is vegetable based.<br /><br />Tens of thousands, perhaps hundreds of thousands, of cats around the world live quite well on one of the several available vegan cat foods that are recognized as nutritionally complete. I personally have had 3 1/2 years of experience in feeding the Evolution kibble product that this review is addressing. It is a high quality product that is AAFCO certified as nutritionally complete for all life stages in cats. Not only is this product safe to feed your cat, but if you follow the recommended feeding procedures, you will find many benefits to both your cat's health and your wallet.<br /><br />If you desire more detailed information, I invite you to do a google search on vegan cats. I would put my web page information about this issue on this review, but it is against the policy for writing reviews on Amazon.<br /><br />Just for everyone's edification, I have researched this issue for well over 500 hours, read hundreds of technical papers, visited hundreds of web sites, and have made a commitment to specialize in feline nutrition as part of my Veterinary Technician studies. I probably know more about feline nutrition than 95% of all the vets in the world.<br /><br />My feline son is a vegan and will remain so because I am absolutely certain that his quality of life will be enhanced by his diet and that this choice will not be a detriment to his health.<br /><br />-------------------------------------<br /><br />Since writing this review in 2006 I have had a change in position about this particular product after 4 years of personal experience. The manufacturer of the Evolution foods was changing the formulation of the food on a regular basis and during that time I found that the Feline Kibble was not able to maintain the pH level in the urine of cats that was promised on the label and in their literature. At least that wasn't the case with my former feline son and my current feline son. As a result I can no longer recommend the use of Evolution Feline Kibble for male cats. Since urinary issues are different between male and female cats the Evolution Kibble MAY be satisfactory for feeding to female cats. Nutritionally the Evolution foods seem to be fine for nutrients but not necessarily adequate for maintaining the proper pH levels to avoid urinary issues for male cats.<br /><br />Consequently I am now recommending male cats use the Vegecat pH diet provided by Harbingers of a New Age. My son has been eating this food supplement in a specially prepared gluten formulation I created called a vegan feline roast. It is 62% protein, 33% fat, and 5% carbs and has a moisture content of about 60%. Almost a perfect combination of ingredients to mimic natural prey. My son finds this product to be very palatable and his urinary pH has been consistently at 6.4 for the three years that we have been producing and consuming this food. The drawback is that it takes about a half hour every 3 days to make the food and the cost is equivalent to a premium cat food. But on the other hand my son is trim, full of energy at 6 1/2 years, enjoys great health, no longer has urinary tract issues, and no other animal had to die in order to provide my son with life-giving nutrition.<br /><br />UPDATE:  4/17/11<br /><br />For those of you who are still considering feeding the Evolution kibble, please heed this warning.  Kibble is only 10% moisture content.  If you follow the directions given by the manufacturer to soak the kibble prior to feeding, you will end up with a mushy material that your cats may or may not like.  The danger in feeding the dry kibble is that your cat will eventually become so dehydrated that no amount of drinking will be sufficient to avoid hydration related illnesses.  Cats do not naturally drink water, they almost exclusively obtain all of their hydration from the food that they consume.  If they are eating something that only has 10% moisture, upon consumption the moisture that is contained within the digestive tract of the cat will be sucked into the food in order to give it enough fluidity to pass through the intestines.  This will often lead to gastro-intestinal diseases. Your cat will be constantly drinking water to make up for that deficiency, but no amount of drinking is enough to avoid the dehydration problem.  So please remember that the best source of moisture for your cat's health, comes from a wet food diet that is around 70% moisture.<br /><br />In October 2008 I wrote an article about vegan cats published in VegFamily magazine.  This information and more will help those who are interested in a vegan diet for cats understand more of the issues.<br /><br />UPDATE:  8/27/12<br /><br />My vegan feline son is now 8 years old and still maintains an extremely healthy life with absolutely no issues of any kind.  He has been using our Vegan Feline Roast product for the past 5 and 1/2 years and his lab tests indicate that his nutritional needs are being adequately met by his vegan diet.<br /><br />For those who are sceptical about a vegan diet for house cats, there is ample evidence that several vegan products are available to satisfy the nutritional needs of cats.  I am still not convinced that Evolution is a good product to feed based on my past history.  There are thousands of customers that seem to successfully feed the Evolution product; however, I believe that our Vegan Feline Roast Mix is a superior product that will yield far better results over the lifetime of feeding any house cat.  Our product is based on the Vegecat phi supplement offered by HOANA, which I have found to be an excellent product for hitting all of the missing nutritional elements that would otherwise come from meat.  The Vegecat product line has been successfully feeding thousands of cats over a 27 year period and we highly recommend the use of Vegecat for those people who wish to formulate their own vegan cat food.  The only difference between our food product and the HOANA vegecat product is that our product is a ready-to-make mix that has been specifically formulated for a high protein/high fat food that is easy to make and highly palatable to the vast majority of cats.<br /><br />I would caution people feeding the Evolution kibble to reconsider doing so.  The problem with kibble in general, not just the Evolution product, is the 10% moisture content of the food.  Cats that eat kibble exclusively will invariably become dehydrated and will not be able to consume enough water by drinking to avoid the condition.  Evolution kibble that is soaked with water prior to feeding, as recommended by the manufacturer, is an attempt to avoid this issue.  However, by soaking the product you will reduce the palatability quality to most cats and will make it harder for them to continue to want to eat the product.  This is a strategy to fix a problem that is inherent to the product itself.<br /><br />As time goes on, I become more convinced that using our Vegan Feline Roast product may in fact be a cure for diseases in cats like FLUTD and diabetes.  At some point in time I would like to perform a long term double blind scientifically significant study to support my empirical observations.  When my son started out 7 years ago eating Evolution kibble, he quickly developed a FLUTD condition, after 18 months of use, that cost $1500 at the vet to fix.  The last 5 1/2 years of eating nothing but our Vegan Feline Roast he has remained FLUTD free and maintains excellent health.  Just the savings alone from avoiding annual teeth cleaning has more than paid for itself in the use of our product.<br /><br />So my bottom line is to recommend not using Evolution Kibble in favor of either the HOANA vegecat supplement or our Vegan Feline Roast Mix.\n",
      "* * * * * * * * * \n",
      "273982\n",
      "2006-10-06 00:00:00\n",
      "5\n",
      "3\n",
      "B000BV37GW\n",
      "I wanted to try one bag 1st.  I eat sushi and thought I would try this product for a little dose of wasabi on my days off.  It gives a blast of taste and then it is over.  It is not over whelmingly hot, but nice.  I was happy to see there was no trans fat in the product.  My friend from Oklahoma said she liked these, but I could not find them.  Someone from Japan gave them to her.  She is really picky, so I thought if she liked them they must be great.  She is not really very experimental and I love all kinds of things.  I like them.  They are good.  I like them better than some of the more expesive wasabi snack products I have tried from eden foods.  I like the pea form.  These peas are addictive.  When I ran out I thought I was going into shock.  I kept craving them.  I buy more now that I like them.\n",
      "* * * * * * * * * \n",
      "275696\n",
      "2011-05-06 00:00:00\n",
      "4\n",
      "11\n",
      "B004LLD3MQ\n",
      "The product description says only:<br />Product Description<br />Save on Annie Chun`s Spicy Chicken noodles (12/4.7 OZ?. Made from all natural or organic ingredients. Enjoy! Please check the manufacturers label for ingredients before use.<br /><br />Most of us want to check the manufacturer's label before buying. Here is what I found on the AC website:<br />NOODLES: WATER, WHEAT FLOUR, TAPIOCA STARCH, SALT, WHEAT GLUTEN, LACTIC ACID, ACETIC ACID, RIBOFLAVIN (VITAMIN B2), SOUP BASE: ORGANIC CHICKEN BASE (ORGANIC CHICKEN MEAT AND NATURAL JUICES, ORGANIC MALTODEXTRIN, ORGANIC CHIKEN STOCK, ORGANIC CANE SUGAR, ORGANIC CHICKEN FAT, ORGANIC POTATO STARCH, NATURAL FLAVOR, ORGANIC ONION*, ORGANIC GARLIC*, ORGANIC TUMERIC), SEA SALT, RED CHILI GARLIC PUREE (FRESH CHILE PEPPER, DISTILLED VINEGAR, GARLIC, SALT), GINGER (GINGER, WATER, CITRIC ACID), MIREPOIX (MALTODEXTRIN, ONION, SALT, SUGAR, YEAST EXTRACT, CORN SALAD OIL, CARROT, CELERY, SPICES, RED WINE), WATER, YEAST EXTRACT, SHIITAKE MUSTHROOM POWDER (SHIITAKE MUSHROOM, DEXTRIN, SALT, WHEAT FLOUR, YEAST EXTRACT). *DEHYDRATED<br /><br />PRODUCT MANUFACTURED IN A FACILITY THAT USES, SOY, MILK, PEANUTS, TREE NUTS, EGGS, FISH AND SHELLFISH.  STORE IN A COOL DRY PLACE. AVOID DIRECT SUNLIGHT.<br /><br />PRODUCT OF THE USA\n",
      "* * * * * * * * * \n",
      "284774\n",
      "2012-07-02 00:00:00\n",
      "4\n",
      "0\n",
      "B003JO0VV2\n",
      "These kefir grains took a little extra TLC tender lovin care to get going.  Love the cultures for health web site.  I have gone there many times since purchasing my kefir grains for assistance with kefir and kombucha.  Keep up the good work, cultures for health.  My daily dose of kefir keeps me healthy and happy!\n",
      "* * * * * * * * * \n"
     ]
    },
    {
     "name": "stdout",
     "output_type": "stream",
     "text": [
      "304296\n",
      "2008-07-31 00:00:00\n",
      "4\n",
      "0\n",
      "B008FHUFAU\n",
      "I've had mixed results so far with the K-cup coffees, but this is the best yet. Black Tiger is potent and delicious -- almost too much so -- and it has become a morning staple for me. I would definitely recommend it if you like your java super midnight onyx smoky black.\n",
      "* * * * * * * * * \n",
      "306311\n",
      "2010-03-17 00:00:00\n",
      "2\n",
      "2\n",
      "B001GVIUTU\n",
      "I used to enjoy gluten-free carob chips as a kid, and I was sad that there weren't any on the market as an adult. The chips I remembered tasted great straight out of the bag. I was happy when I heard that Chatfield's Carob Chips were now NOT made with icky barley malt, and were dairy free. They aren't available anywhere in my area, so I ordered in bulk from Amazon. When they arrived, I ripped open a bag- and found them so sickeningly sweet I could hardly eat them. They honestly taste more like white chocolate than carob. Seriously, Chatfield, did you taste these before mass producing them? I can only hope they taste better baked into recipes.\n",
      "* * * * * * * * * \n",
      "311752\n",
      "2012-05-27 00:00:00\n",
      "5\n",
      "0\n",
      "B0057FSYD8\n",
      "I have tried this filling years ago and could not get it at our small town for years.  I am thrilled I can order it online.  Great for cheesecakes.\n",
      "* * * * * * * * * \n",
      "320277\n",
      "2012-07-25 00:00:00\n",
      "5\n",
      "1\n",
      "B001FA1S1E\n",
      "These \"Classic Creme Sandwich\" cookies are delicious, light on the tummy due to the naturalness of the ingredients.<br />I ate a box in two days, couldn't stop myself.  I took a whole tray to work, as I am working I would reward myself a cookie for meeting a goal I set for myself...hehehe. That tray made it to 1:30P.M.<br />My next order was a case, yep these Classic Creme cookies are deeelicious.\n",
      "* * * * * * * * * \n",
      "320737\n",
      "2012-09-20 00:00:00\n",
      "5\n",
      "2\n",
      "B003BJZMSM\n",
      "These SmartFries are so awsome!  With regular chips and bagged snacks you get maybe 10 - 15 per serving, but with SmartFries you get 65 per serving and only 110 calories.  I never even get close to that many though as I usually get my fix in around 20.  If any of you love the Trader Joe's Skinny Fries, then you're in luck because these are the same thing and the same price if purchased in multiple bag packs.  I am a frequent buyer of this product.\n",
      "* * * * * * * * * \n",
      "350443\n",
      "2011-11-22 00:00:00\n",
      "1\n",
      "0\n",
      "B000O3KMKG\n",
      "I ordered ten vanilla beans from this company.  when they came in the mail they were so dried out they would snap in half.  there was no way to use them at all.  It took several emails and three weeks to finally get a replacement sent.  Not happy with halaleveryday at all.  Would never order from them again.\n",
      "* * * * * * * * * \n"
     ]
    }
   ],
   "source": [
    "# false positives\n",
    "\n",
    "import random, time\n",
    "\n",
    "for i in range(0, len(ridge_predictions)):\n",
    "    if (ridge_predictions[i] == True):\n",
    "        if (amazon.loc[i, \"helpful\"] == False):\n",
    "            if (random.uniform(0, 1) < 0.05):\n",
    "                print(i)\n",
    "                print(time.strftime('%Y-%m-%d %H:%M:%S', time.gmtime(amazon.loc[i, \"Time\"])))\n",
    "                print(amazon.loc[i, \"Score\"])\n",
    "                print(amazon.loc[i, \"HelpfulnessDenominator\"])\n",
    "                print(amazon.loc[i, \"ProductId\"])\n",
    "                print(amazon.loc[i, \"Text\"])\n",
    "                print('* * * * * * * * * ')"
   ]
  },
  {
   "cell_type": "code",
   "execution_count": null,
   "metadata": {},
   "outputs": [],
   "source": []
  }
 ],
 "metadata": {
  "kernelspec": {
   "display_name": "Python 3",
   "language": "python",
   "name": "python3"
  },
  "language_info": {
   "codemirror_mode": {
    "name": "ipython",
    "version": 3
   },
   "file_extension": ".py",
   "mimetype": "text/x-python",
   "name": "python",
   "nbconvert_exporter": "python",
   "pygments_lexer": "ipython3",
   "version": "3.7.1"
  }
 },
 "nbformat": 4,
 "nbformat_minor": 1
}
