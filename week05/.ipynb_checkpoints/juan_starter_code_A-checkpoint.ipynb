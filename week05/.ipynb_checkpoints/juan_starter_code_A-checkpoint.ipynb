{
 "cells": [
  {
   "cell_type": "code",
   "execution_count": 33,
   "metadata": {},
   "outputs": [],
   "source": [
    "import numpy as np\n",
    "import pandas as pd\n",
    "import matplotlib.pyplot as plt\n",
    "%matplotlib inline"
   ]
  },
  {
   "cell_type": "markdown",
   "metadata": {},
   "source": [
    "### read the raw data"
   ]
  },
  {
   "cell_type": "code",
   "execution_count": 3,
   "metadata": {},
   "outputs": [
    {
     "name": "stdout",
     "output_type": "stream",
     "text": [
      "term          object\n",
      "definition    object\n",
      "ml              bool\n",
      "dtype: object\n",
      "               term                                         definition    ml\n",
      "0  machine learning                   Algorithms that learn from data.  True\n",
      "1  machine learning  The ability of a computer program to determine...  True\n",
      "2  machine learning  capability of a machine to make decisions or p...  True\n",
      "3  machine learning  Machine learning is the machine which can find...  True\n",
      "4  machine learning  Repetitive loops that create an algorithm elim...  True\n",
      "5  machine learning  Machine learning is a study focusing on improv...  True\n",
      "6  machine learning  the ability of machines to do something for hu...  True\n",
      "7  machine learning  let machines learn their context and knowledge...  True\n",
      "8  machine learning  A method of detecting a model/trend or classif...  True\n",
      "9  machine learning  Machine Learning is just that, it is a machine...  True\n"
     ]
    }
   ],
   "source": [
    "data = pd.read_csv('/Users/juandherrera/Google Drive/017_Machine Learning/ml/week05/definitions.csv')\n",
    "\n",
    "# create a boolean indicator =True if the definition is of \"machine learning\"\n",
    "data['ml'] = data['term'] == 'machine learning'\n",
    "\n",
    "print(data.dtypes)\n",
    "print(data.head(10))"
   ]
  },
  {
   "cell_type": "markdown",
   "metadata": {},
   "source": [
    "### <span style=\"color:red\">create feature set X (matrix) and vector of labels L</span>\n",
    "\n",
    "Use [feature extraction methods in scikit-learn](http://scikit-learn.org/stable/modules/feature_extraction.html#text-feature-extraction) to *vectorize* the text of machine learning/AI definitions into an X matrix. "
   ]
  },
  {
   "cell_type": "code",
   "execution_count": 4,
   "metadata": {},
   "outputs": [
    {
     "name": "stdout",
     "output_type": "stream",
     "text": [
      "(109, 641)\n"
     ]
    }
   ],
   "source": [
    "from sklearn.feature_extraction.text import CountVectorizer\n",
    "\n",
    "L = data[\"ml\"] # labels\n",
    "corpus = data['definition'] # corpus of reviews in words\n",
    "vectorizer = CountVectorizer()\n",
    "X = vectorizer.fit_transform(corpus)\n",
    "print(X.shape)"
   ]
  },
  {
   "cell_type": "markdown",
   "metadata": {},
   "source": [
    "### let's look at the words in the corpus of \"definition\""
   ]
  },
  {
   "cell_type": "code",
   "execution_count": 5,
   "metadata": {},
   "outputs": [
    {
     "name": "stdout",
     "output_type": "stream",
     "text": [
      "641\n",
      "* * * * *\n",
      "{'algorithms': 21, 'that': 553, 'learn': 336, 'from': 240, 'data': 148, 'the': 554, 'ability': 0, 'of': 403, 'computer': 131, 'program': 450, 'to': 571, 'determine': 163, 'patterns': 423, 'set': 502, 'input': 303, 'allowing': 24, 'it': 317, 'later': 333, 'recognize': 464, 'such': 535, 'in': 293, 'new': 393, 'inputs': 304, 'capability': 96, 'machine': 351, 'make': 355, 'decisions': 154, 'or': 411, 'predictions': 438, 'based': 64, 'on': 407, 'initial': 301, 'parameters': 419, 'learning': 338, 'is': 316, 'which': 621, 'can': 94, 'find': 229, 'repetitive': 470, 'loops': 349, 'create': 143, 'an': 32, 'algorithm': 19, 'eliminating': 193, 'need': 390, 'for': 235, 'human': 280, 'interaction': 311, 'study': 532, 'focusing': 232, 'improving': 292, 'effectiveness': 186, 'with': 628, 'codes': 115, 'python': 455, 'machines': 352, 'do': 176, 'something': 517, 'humans': 282, 'using': 602, 'and': 36, 'behaviors': 75, 'let': 339, 'their': 555, 'context': 136, 'knowledge': 330, 'little': 345, 'assistance': 52, 'method': 369, 'detecting': 161, 'model': 374, 'trend': 582, 'classifying': 111, 'feature': 221, 'list': 344, 'variables': 604, 'large': 332, 'written': 637, 'statistic': 525, 'formulas': 238, 'just': 324, 'through': 567, 'visioning': 610, 'pattern': 422, 'recognition': 463, 'etc': 201, 'there': 559, 'supervised': 537, 'unsupervised': 593, 'training': 580, 'train': 578, 'then': 558, 'test': 551, 'sure': 538, 'accurate': 4, 'intersection': 314, 'coding': 116, 'statistics': 527, 'setting': 504, 'up': 595, 'continue': 137, 'develop': 164, 'itself': 320, 'being': 78, 'fed': 223, 'without': 630, 'further': 243, 'interference': 313, 'people': 424, 'certain': 104, 'schemes': 487, 'complex': 128, 'jobs': 322, 'bases': 65, 'we': 614, 'me': 363, 'ml': 373, 'use': 598, 'automated': 60, 'methods': 371, 'help': 273, 'things': 561, 'more': 377, 'efficient': 188, 'grand': 256, 'scale': 486, 'elevator': 191, 'example': 204, 'probably': 443, 'number': 398, 'researchers': 471, 'sit': 506, 'observe': 401, 'students': 531, 'habits': 264, 'run': 481, 'statistical': 526, 'they': 560, 'would': 636, 'manually': 360, 'implement': 289, 'elevators': 192, 'whereas': 619, 'are': 45, 'able': 1, 'automate': 59, 'entire': 198, 'process': 448, 'start': 524, 'finish': 230, 'practice': 436, 'procedures': 447, 'have': 271, 'become': 69, 'smarter': 511, 'update': 596, 'adapt': 11, 'themselves': 557, 'user': 601, 'interactions': 312, 'understanding': 591, 'nature': 388, 'processes': 449, 'happening': 267, 'world': 635, 'organizing': 415, 'them': 556, 'effective': 185, 'manner': 359, 'capabilities': 95, 'so': 512, 'as': 51, 'reduce': 466, 'chaos': 106, 'increase': 295, 'efficiency': 187, 'models': 376, 'take': 543, 'existing': 208, 'information': 298, 'order': 412, 'about': 2, 'might': 372, 'not': 397, 'yet': 638, 'exist': 207, 'helps': 274, 'faster': 220, 'instead': 307, 'feed': 224, 'perform': 425, 'tasks': 545, 'explicit': 212, 'code': 113, 'directing': 170, 'its': 319, 'behavior': 74, 'but': 89, 'found': 239, 'execute': 206, 'different': 167, 'task': 544, 'instance': 306, 'vision': 609, 'type': 584, 'understand': 590, 'pixel': 429, 'object': 399, 'when': 617, 'guess': 262, 'this': 564, 'image': 286, 'car': 99, 'predicting': 437, 'future': 244, 'fluctuations': 231, 'stock': 529, 'market': 361, 'accuracy': 3, 'change': 105, 'over': 418, 'time': 569, 'trained': 579, 'although': 28, 'think': 562, 'you': 639, 'could': 141, 'say': 485, 'benchmark': 79, 'subjective': 534, 'because': 68, 'defined': 156, 'by': 90, 'basically': 66, 'predictive': 439, 'modeling': 375, 'past': 421, 'decision': 153, 'making': 357, 'amount': 31, 'ways': 613, 'same': 483, 'some': 516, 'cases': 101, 'discover': 173, 'surprising': 539, 'relationships': 469, 'ingest': 300, 'adjust': 14, 'appropriately': 44, 'how': 277, 'actually': 10, 'having': 272, 'hard': 268, 'similar': 505, 'previously': 441, 'seen': 491, 'before': 71, 'umbrella': 587, 'term': 550, 'algorithmic': 20, 'techniques': 546, 'multiple': 383, 'layers': 334, 'calculations': 91, 'analyze': 34, 'big': 83, 'sets': 503, 'part': 420, 'describes': 158, 'fact': 219, 'magnitudes': 354, 'iterations': 318, 'individual': 297, 'automatically': 61, 'adjusted': 15, 'achieve': 6, 'desired': 159, 'result': 475, 'technology': 547, 'combines': 121, 'databases': 149, 'instructions': 308, 'system': 541, 'gathering': 247, 'analyzing': 35, 'analysis': 33, 'better': 82, 'collect': 117, 'complete': 126, 'science': 488, 'improve': 291, 'performance': 426, 'going': 255, 'lot': 350, 'text': 552, 'images': 287, 'one': 409, 'way': 612, 'developing': 165, 'unable': 588, 'experiences': 211, 'humanized': 281, 'liberate': 341, 'tedious': 548, 'stuff': 533, 'also': 26, 'augment': 58, 'providing': 453, 'huge': 279, 'dataset': 150, 'rules': 480, 'behind': 77, 'problems': 446, 'whose': 625, 'too': 573, 'much': 382, 'define': 155, 'unclear': 589, 'however': 278, 'blackbox': 85, 'unsolved': 592, 'problem': 445, 'computational': 129, 'given': 251, 'ground': 258, 'truth': 583, 'detection': 162, 'detect': 160, 'those': 565, 'features': 222, 'accurately': 5, 'approach': 43, 'methodology': 370, 'neural': 392, 'network': 391, 'often': 406, 'be': 67, 'get': 249, 'output': 417, 'receives': 462, 'serves': 500, 'role': 479, 'included': 294, 'solve': 514, 'goal': 254, 'combination': 120, 'various': 606, 'lead': 335, 'sophisticated': 520, 'like': 342, 'actions': 8, 'sentiments': 499, 'man': 358, 'made': 353, 'emulates': 195, 'characteristics': 107, 'intelligence': 309, 'non': 395, 'environment': 200, 'choose': 110, 'programmed': 451, 'guidelines': 263, 'principles': 442, 'artificial': 50, 'skills': 509, 'off': 404, 'collected': 118, 'recognized': 465, 'digital': 168, 'gain': 245, 'called': 92, 'only': 410, 'judgement': 323, 'highest': 276, 'level': 340, 'dead': 151, 'self': 492, 'awareness': 63, 'autonomous': 62, 'wide': 626, 'variety': 605, 'topics': 575, 'any': 41, 'working': 633, 'does': 177, 'come': 122, 'living': 346, 'organism': 414, 'implementation': 290, 'solving': 515, 'mechanism': 367, 'situations': 507, 'all': 22, 'possibilities': 432, 'already': 25, 'into': 315, 'presented': 440, 'useful': 600, 'seems': 490, 'intelligent': 310, 'behaves': 73, 'completes': 127, 'behaviours': 76, 'directed': 169, 'what': 616, 'learned': 337, 'independently': 296, 'prompt': 452, 'direction': 171, 'created': 144, 'drives': 182, 'inserted': 305, 'capable': 97, 'dealing': 152, 'affairs': 17, 'computations': 130, 'done': 179, 'even': 202, 'efficiently': 189, 'resembles': 472, 'ultimate': 585, 'form': 236, 'reach': 458, 'super': 536, 'move': 381, 'explicitly': 213, 'told': 572, 'sometimes': 518, 'another': 38, 'adversarial': 16, 'inner': 302, 'workings': 634, 'arrives': 49, 'at': 55, 'transparent': 581, 'associate': 53, 'ai': 18, 'extreme': 217, 'has': 270, 'great': 257, 'degree': 157, 'always': 29, 'continuing': 138, 'extrapolate': 216, 'point': 430, 'where': 618, 'begins': 72, 'act': 7, 'somewhat': 519, 'expected': 209, 'websites': 615, 'customer': 146, 'service': 501, 'chat': 108, 'respond': 473, 'questions': 457, 'computers': 132, 'directly': 172, 'coded': 114, 'attempts': 57, 'explore': 214, 'hidden': 275, 'everyday': 203, 'bring': 88, 'commercial': 124, 'benefit': 80, 'quality': 456, 'used': 599, 'media': 368, 'convey': 139, 'dramatic': 180, 'enticing': 197, 'comparisons': 125, 'psyche': 454, 'curated': 145, 'consciousness': 133, 'formed': 237, 'robotics': 478, 'maybe': 362, 'work': 632, 'driving': 183, 'speaking': 523, 'thinking': 563, 'power': 435, 'visuals': 611, 'captured': 98, 'camera': 93, 'systems': 542, 'robot': 477, 'whether': 620, 'telling': 549, 'kind': 325, 'infused': 299, 'means': 365, 'naturally': 387, 'if': 285, 'piece': 427, 'software': 513, 'body': 86, 'results': 476, 'consists': 134, 'adaptability': 12, 'possible': 433, 'outliers': 416, 'give': 250, 'reason': 460, 'responses': 474, 'realized': 459, 'been': 70, 'offer': 405, 'gives': 252, 'untrained': 594, 'following': 234, 'reasoning': 461, 'contain': 135, 'smart': 510, 'experience': 210, 'functioned': 241, 'organic': 413, 'hairs': 266, 'emerge': 194, 'cat': 102, 'face': 218, 'sense': 493, 'immediate': 288, 'surroundings': 540, 'makes': 356, 'feel': 225, 'touched': 576, 'motion': 379, 'sensors': 497, 'whiskers': 623, 'kitty': 328, 'no': 394, 'idea': 283, 'ideas': 284, 'drug': 184, 'jk': 321, 'alternative': 27, 'answer': 39, 'antennas': 40, 'navigate': 389, 'space': 521, 'whisk': 622, 'very': 607, 'sensitive': 496, 'long': 347, 'grow': 259, 'upper': 597, 'lip': 343, 'string': 530, 'pieces': 428, 'extend': 215, 'spacial': 522, 'cuteness': 147, 'hair': 265, 'whiskey': 624, 'drink': 181, 'popular': 431, 'amongst': 30, 'ladies': 331, 'mustache': 384, 'distinct': 175, 'clumps': 112, 'stiff': 528, 'looking': 348, 'fur': 242, 'grows': 261, 'around': 48, 'nose': 396, 'area': 46, 'usually': 603, 'obstetricals': 402, 'tissues': 570, 'distance': 174, 'follicles': 233, 'growing': 260, 'feelers': 226, 'allow': 23, 'kitties': 327, 'see': 489, 'tickling': 568, 'devices': 166, 'woke': 631, 'morning': 378, 'ultra': 586, 'beside': 81, 'cats': 103, 'mouth': 380, 'once': 408, 'annoyed': 37, 'satellites': 484, 'don': 178, 'know': 329, 'relate': 468, 'element': 190, 'attached': 56, 'case': 100, 'young': 640, 'senses': 494, 'boundaries': 87, 'touching': 577, 'sensing': 495, 'colliding': 119, 'my': 385, 'association': 54, 'comes': 123, 'actual': 9, 'though': 566, 'course': 142, 'refers': 467, 'entirely': 199, 'cooler': 140, 'excited': 205, 'mean': 364, 'biological': 84, 'appendages': 42, 'added': 13, 'feline': 227, 'chin': 109, 'sensory': 498, 'vibrations': 608, 'within': 629, 'few': 228, 'areas': 47, 'said': 482, 'measuring': 366, 'tool': 574, 'size': 508, 'objects': 400, 'natural': 386, 'kittens': 326, 'potentially': 434, 'harmful': 269, 'probe': 444, 'gauging': 248, 'widith': 627, 'gap': 246, 'enough': 196, 'go': 253}\n"
     ]
    }
   ],
   "source": [
    "print(len(vectorizer.vocabulary_))\n",
    "print(\"* * * * *\")\n",
    "print(vectorizer.vocabulary_)"
   ]
  },
  {
   "cell_type": "markdown",
   "metadata": {},
   "source": [
    "### <span style=\"color:red\">fit X, L to SVM using gradient descent</span>\n",
    "\n",
    "[gradient descent documentation](http://scikit-learn.org/stable/modules/generated/sklearn.linear_model.SGDClassifier.html)"
   ]
  },
  {
   "cell_type": "code",
   "execution_count": 49,
   "metadata": {},
   "outputs": [
    {
     "name": "stderr",
     "output_type": "stream",
     "text": [
      "/Users/juandherrera/anaconda3/lib/python3.7/site-packages/sklearn/linear_model/stochastic_gradient.py:152: DeprecationWarning: n_iter parameter is deprecated in 0.19 and will be removed in 0.21. Use max_iter and tol instead.\n",
      "  DeprecationWarning)\n"
     ]
    },
    {
     "data": {
      "text/plain": [
       "SGDClassifier(alpha=0.0001, average=False, class_weight=None,\n",
       "       early_stopping=False, epsilon=0.1, eta0=0.0, fit_intercept=True,\n",
       "       l1_ratio=0.15, learning_rate='optimal', loss='hinge', max_iter=None,\n",
       "       n_iter=20, n_iter_no_change=200, n_jobs=None, penalty='l2',\n",
       "       power_t=0.5, random_state=None, shuffle=True, tol=None,\n",
       "       validation_fraction=0.1, verbose=0, warm_start=False)"
      ]
     },
     "execution_count": 49,
     "metadata": {},
     "output_type": "execute_result"
    }
   ],
   "source": [
    "# fit SVM linear classifier\n",
    "from sklearn import linear_model\n",
    "sgd = linear_model.SGDClassifier(n_iter=20, n_iter_no_change=200)\n",
    "sgd.fit(X, L)"
   ]
  },
  {
   "cell_type": "markdown",
   "metadata": {},
   "source": [
    "### assess performance"
   ]
  },
  {
   "cell_type": "code",
   "execution_count": 42,
   "metadata": {},
   "outputs": [
    {
     "name": "stdout",
     "output_type": "stream",
     "text": [
      "{'Pos': 37, 'Neg': 72, 'TP': 37, 'TN': 72, 'FP': 0, 'FN': 0, 'Accuracy': 1.0, 'Precision': 1.0, 'Recall': 1.0, 'desc': 'sgd'}\n"
     ]
    }
   ],
   "source": [
    "# look at performance measures\n",
    "import my_measures\n",
    "\n",
    "performance_measures = my_measures.BinaryClassificationPerformance(sgd.predict(X), L, 'sgd')\n",
    "performance_measures.compute_measures()\n",
    "print(performance_measures.performance_measures)"
   ]
  },
  {
   "cell_type": "markdown",
   "metadata": {
    "collapsed": true
   },
   "source": [
    "### test model on unseen definitions"
   ]
  },
  {
   "cell_type": "code",
   "execution_count": 14,
   "metadata": {},
   "outputs": [
    {
     "name": "stdout",
     "output_type": "stream",
     "text": [
      "Machine learning is a field of computer science that gives computers the ability to learn without being explicitly programmed.\n",
      "* * *\n",
      "Machine learning is an application of artificial intelligence (AI) that provides systems the ability to automatically learn and improve from experience without being explicitly programmed. Machine learning focuses on the development of computer programs that can access data and use it learn for themselves.\n",
      "* * *\n",
      "Machine Learning is the science of getting computers to learn and act like humans do, and improve their learning over time in autonomous fashion, by feeding them data and information in the form of observations and real-world interactions.\n",
      "* * *\n"
     ]
    }
   ],
   "source": [
    "# machine learning definitions\n",
    "# Wikipedia, Expert System, Tech Emergence\n",
    "ml_defs = [\"Machine learning is a field of computer science that gives computers the ability to learn without being explicitly programmed.\",\n",
    "          \"Machine learning is an application of artificial intelligence (AI) that provides systems the ability to automatically learn and improve from experience without being explicitly programmed. Machine learning focuses on the development of computer programs that can access data and use it learn for themselves.\",\n",
    "          \"Machine Learning is the science of getting computers to learn and act like humans do, and improve their learning over time in autonomous fashion, by feeding them data and information in the form of observations and real-world interactions.\"]\n",
    "\n",
    "for d in ml_defs:\n",
    "    print(d)\n",
    "    print(\"* * *\")"
   ]
  },
  {
   "cell_type": "code",
   "execution_count": 15,
   "metadata": {},
   "outputs": [
    {
     "name": "stdout",
     "output_type": "stream",
     "text": [
      "Artificial intelligence (AI, also machine intelligence, MI) is intelligence demonstrated by machines, in contrast to the natural intelligence (NI) displayed by humans and other animals.\n",
      "* * *\n",
      "the theory and development of computer systems able to perform tasks that normally require human intelligence, such as visual perception, speech recognition, decision-making, and translation between languages\n",
      "* * *\n"
     ]
    }
   ],
   "source": [
    "# AI definitions\n",
    "# Wikipedia, Oxford dictionary\n",
    "ai_defs = [\"Artificial intelligence (AI, also machine intelligence, MI) is intelligence demonstrated by machines, in contrast to the natural intelligence (NI) displayed by humans and other animals.\",\n",
    "          \"the theory and development of computer systems able to perform tasks that normally require human intelligence, such as visual perception, speech recognition, decision-making, and translation between languages\"]\n",
    "\n",
    "for d in ai_defs:\n",
    "    print(d)\n",
    "    print(\"* * *\")"
   ]
  },
  {
   "cell_type": "code",
   "execution_count": 16,
   "metadata": {},
   "outputs": [
    {
     "name": "stdout",
     "output_type": "stream",
     "text": [
      "A kitten, also known as a kitty or kitty cat, is a juvenile cat.\n",
      "* * *\n",
      "The piano is an acoustic, stringed musical instrument invented in Italy by Bartolomeo Cristofori around the year 1700 in which the strings are struck by hammers.\n",
      "* * *\n",
      "a small gadget or mechanical device, especially one whose name is unknown or unspecified\n",
      "* * *\n"
     ]
    }
   ],
   "source": [
    "# Definitions of unrelated things: kitten, piano, widget\n",
    "other_defs = [\"A kitten, also known as a kitty or kitty cat, is a juvenile cat.\",\n",
    "             \"The piano is an acoustic, stringed musical instrument invented in Italy by Bartolomeo Cristofori around the year 1700 in which the strings are struck by hammers.\",\n",
    "             \"a small gadget or mechanical device, especially one whose name is unknown or unspecified\"]\n",
    "\n",
    "for d in other_defs:\n",
    "    print(d)\n",
    "    print(\"* * *\")"
   ]
  },
  {
   "cell_type": "markdown",
   "metadata": {},
   "source": [
    "### function to transform new definitions to a X vector"
   ]
  },
  {
   "cell_type": "code",
   "execution_count": 25,
   "metadata": {},
   "outputs": [],
   "source": [
    "def get_prediction(definition):\n",
    "    text_x = vectorizer.transform([definition]).toarray()\n",
    "    return(sgd.predict(text_x))"
   ]
  },
  {
   "cell_type": "markdown",
   "metadata": {},
   "source": [
    "### view predicted classifications of new definitions"
   ]
  },
  {
   "cell_type": "code",
   "execution_count": 50,
   "metadata": {},
   "outputs": [
    {
     "name": "stdout",
     "output_type": "stream",
     "text": [
      "Model predictions for 'machine learning' definitions:\n",
      "[False]\n",
      "[False]\n",
      "[ True]\n",
      "* * *\n",
      "Model predictions for 'AI' definitions:\n",
      "[False]\n",
      "[False]\n",
      "* * *\n",
      "Model predictions for other definitions (kitten, piano, widget):\n",
      "[False]\n",
      "[ True]\n",
      "[False]\n"
     ]
    }
   ],
   "source": [
    "print(\"Model predictions for 'machine learning' definitions:\")\n",
    "for mld in ml_defs:\n",
    "    print(get_prediction(mld))\n",
    "    \n",
    "print(\"* * *\")\n",
    "print(\"Model predictions for 'AI' definitions:\")\n",
    "for aid in ai_defs:\n",
    "    print(get_prediction(aid))\n",
    "\n",
    "print(\"* * *\")\n",
    "print(\"Model predictions for other definitions (kitten, piano, widget):\")\n",
    "for otherd in other_defs:\n",
    "    print(get_prediction(otherd))"
   ]
  },
  {
   "cell_type": "code",
   "execution_count": null,
   "metadata": {},
   "outputs": [],
   "source": []
  }
 ],
 "metadata": {
  "kernelspec": {
   "display_name": "Python 3",
   "language": "python",
   "name": "python3"
  },
  "language_info": {
   "codemirror_mode": {
    "name": "ipython",
    "version": 3
   },
   "file_extension": ".py",
   "mimetype": "text/x-python",
   "name": "python",
   "nbconvert_exporter": "python",
   "pygments_lexer": "ipython3",
   "version": "3.7.1"
  }
 },
 "nbformat": 4,
 "nbformat_minor": 1
}
